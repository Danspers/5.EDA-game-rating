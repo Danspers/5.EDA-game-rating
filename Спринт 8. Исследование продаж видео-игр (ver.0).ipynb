{
 "cells": [
  {
   "cell_type": "markdown",
   "metadata": {},
   "source": [
    "<div class=\"alert alert-info\">\n",
    "<font size=\"4\", color = \"black\"><b>✍ Комментарий студента</b></font>\n",
    "    <br /> \n",
    "    <font size=\"3\", color = \"black\">\n",
    "<br /> Привет! Меня зовут Данила. Если ты не против, я предлагаю перейти на ты.\n",
    "        \n",
    "Несколько вступительных кооментариев:\n",
    "- В первую очередь хочу сказать, что очень много времени убил предобработку и чтение документаций. По этой причине достаточно поздно передаю проект на проверку, и крайне обеспокоен приближением дедлайна. Приложу все усилия для устранения недочётов.\n",
    "- В проекте могу встречатся грамматические ошибки, которые я не замети при пересмотре. Глаза уже замыливаются.\n",
    "- А в ячейках с кодом будут встречатся участки, которые заменялись более техничным  кодом, а старый оставался как история.\n",
    "        \n",
    "При необходимости моя почта для связи: danilasolt@yandex.ru"
   ]
  },
  {
   "cell_type": "markdown",
   "metadata": {},
   "source": [
    "# Исследование продаж видео-игр\n",
    "\n",
    "Необходимо выявить закономерности, определяющие успешность игры. Это позволит сделать ставку на потенциально популярный продукт и спланировать рекламные кампании.\n",
    "\n",
    "Исходные данные представляют из себя перечень игр с ключевыми характеристиками: жанр, год издания, рейтинг и т.д. Информация о количестве продаж собрана до 2016 год, включительно. Информация за 2016-ый год может быть не полной."
   ]
  },
  {
   "cell_type": "markdown",
   "metadata": {},
   "source": [
    "### План работы:\n",
    "1. [Чтение и знакомство с исходными данными. Оценить примерный объём предобработки.](#section_1)\n",
    "2. [Поиск и устронение: дубликатов, пропусков, аномалий и прочих ошибок.](#section_2)\n",
    "3. [Дополнение таблицы информацией, необходимой для последующей работы.](#section_3)\n",
    "4. [Поиск зависимостей между данными. Построение и проверка гипотиз. Графическое отображение результатов.](#section_4)\n",
    "5. [Проверка гипотез.](#section_5)\n",
    "6. [Общий вывод по поставленной задаче. Перечень зависимых параметров и комментарии.](#section_6)\n"
   ]
  },
  {
   "cell_type": "markdown",
   "metadata": {},
   "source": [
    "<a id='section_1'></a>\n",
    "# 1. Исходные данные и общая информация"
   ]
  },
  {
   "cell_type": "code",
   "execution_count": 1,
   "metadata": {},
   "outputs": [],
   "source": [
    "import numpy as np\n",
    "import pandas as pd\n",
    "import seaborn as sns\n",
    "from scipy import stats as st\n",
    "from matplotlib import pyplot as plt"
   ]
  },
  {
   "cell_type": "code",
   "execution_count": 2,
   "metadata": {
    "scrolled": false
   },
   "outputs": [
    {
     "data": {
      "text/html": [
       "<div>\n",
       "<style scoped>\n",
       "    .dataframe tbody tr th:only-of-type {\n",
       "        vertical-align: middle;\n",
       "    }\n",
       "\n",
       "    .dataframe tbody tr th {\n",
       "        vertical-align: top;\n",
       "    }\n",
       "\n",
       "    .dataframe thead th {\n",
       "        text-align: right;\n",
       "    }\n",
       "</style>\n",
       "<table border=\"1\" class=\"dataframe\">\n",
       "  <thead>\n",
       "    <tr style=\"text-align: right;\">\n",
       "      <th></th>\n",
       "      <th>Name</th>\n",
       "      <th>Platform</th>\n",
       "      <th>Year_of_Release</th>\n",
       "      <th>Genre</th>\n",
       "      <th>NA_sales</th>\n",
       "      <th>EU_sales</th>\n",
       "      <th>JP_sales</th>\n",
       "      <th>Other_sales</th>\n",
       "      <th>Critic_Score</th>\n",
       "      <th>User_Score</th>\n",
       "      <th>Rating</th>\n",
       "    </tr>\n",
       "  </thead>\n",
       "  <tbody>\n",
       "    <tr>\n",
       "      <th>0</th>\n",
       "      <td>Wii Sports</td>\n",
       "      <td>Wii</td>\n",
       "      <td>2006.0</td>\n",
       "      <td>Sports</td>\n",
       "      <td>41.36</td>\n",
       "      <td>28.96</td>\n",
       "      <td>3.77</td>\n",
       "      <td>8.45</td>\n",
       "      <td>76.0</td>\n",
       "      <td>8</td>\n",
       "      <td>E</td>\n",
       "    </tr>\n",
       "    <tr>\n",
       "      <th>1</th>\n",
       "      <td>Super Mario Bros.</td>\n",
       "      <td>NES</td>\n",
       "      <td>1985.0</td>\n",
       "      <td>Platform</td>\n",
       "      <td>29.08</td>\n",
       "      <td>3.58</td>\n",
       "      <td>6.81</td>\n",
       "      <td>0.77</td>\n",
       "      <td>NaN</td>\n",
       "      <td>NaN</td>\n",
       "      <td>NaN</td>\n",
       "    </tr>\n",
       "    <tr>\n",
       "      <th>2</th>\n",
       "      <td>Mario Kart Wii</td>\n",
       "      <td>Wii</td>\n",
       "      <td>2008.0</td>\n",
       "      <td>Racing</td>\n",
       "      <td>15.68</td>\n",
       "      <td>12.76</td>\n",
       "      <td>3.79</td>\n",
       "      <td>3.29</td>\n",
       "      <td>82.0</td>\n",
       "      <td>8.3</td>\n",
       "      <td>E</td>\n",
       "    </tr>\n",
       "    <tr>\n",
       "      <th>3</th>\n",
       "      <td>Wii Sports Resort</td>\n",
       "      <td>Wii</td>\n",
       "      <td>2009.0</td>\n",
       "      <td>Sports</td>\n",
       "      <td>15.61</td>\n",
       "      <td>10.93</td>\n",
       "      <td>3.28</td>\n",
       "      <td>2.95</td>\n",
       "      <td>80.0</td>\n",
       "      <td>8</td>\n",
       "      <td>E</td>\n",
       "    </tr>\n",
       "    <tr>\n",
       "      <th>4</th>\n",
       "      <td>Pokemon Red/Pokemon Blue</td>\n",
       "      <td>GB</td>\n",
       "      <td>1996.0</td>\n",
       "      <td>Role-Playing</td>\n",
       "      <td>11.27</td>\n",
       "      <td>8.89</td>\n",
       "      <td>10.22</td>\n",
       "      <td>1.00</td>\n",
       "      <td>NaN</td>\n",
       "      <td>NaN</td>\n",
       "      <td>NaN</td>\n",
       "    </tr>\n",
       "  </tbody>\n",
       "</table>\n",
       "</div>"
      ],
      "text/plain": [
       "                       Name Platform  Year_of_Release         Genre  NA_sales  \\\n",
       "0                Wii Sports      Wii           2006.0        Sports     41.36   \n",
       "1         Super Mario Bros.      NES           1985.0      Platform     29.08   \n",
       "2            Mario Kart Wii      Wii           2008.0        Racing     15.68   \n",
       "3         Wii Sports Resort      Wii           2009.0        Sports     15.61   \n",
       "4  Pokemon Red/Pokemon Blue       GB           1996.0  Role-Playing     11.27   \n",
       "\n",
       "   EU_sales  JP_sales  Other_sales  Critic_Score User_Score Rating  \n",
       "0     28.96      3.77         8.45          76.0          8      E  \n",
       "1      3.58      6.81         0.77           NaN        NaN    NaN  \n",
       "2     12.76      3.79         3.29          82.0        8.3      E  \n",
       "3     10.93      3.28         2.95          80.0          8      E  \n",
       "4      8.89     10.22         1.00           NaN        NaN    NaN  "
      ]
     },
     "metadata": {},
     "output_type": "display_data"
    }
   ],
   "source": [
    "try:\n",
    "    try:\n",
    "        data = pd.read_csv('datasets\\games.csv') #домашняя версия\n",
    "    except:\n",
    "        data = pd.read_csv('/datasets/games.csv') #сетевая версия\n",
    "    display(data.head())\n",
    "except:\n",
    "    print('Не удалось прочесть файл. Возможно, был указан не верный путь.')"
   ]
  },
  {
   "cell_type": "markdown",
   "metadata": {},
   "source": [
    "**Описание данных**:\n",
    "- `Name` — название игры\n",
    "- `Platform` — платформа\n",
    "- `Year_of_Release` — год выпуска\n",
    "- `Genre` — жанр игры\n",
    "- `NA_sales` — продажи в Северной Америке (миллионы проданных копий)\n",
    "- `EU_sales` — продажи в Европе (миллионы проданных копий)\n",
    "- `JP_sales` — продажи в Японии (миллионы проданных копий)\n",
    "- `Other_sales` — продажи в других странах (миллионы проданных копий)\n",
    "- `Critic_Score` — оценка критиков (максимум 100)\n",
    "- `User_Score` — оценка пользователей (максимум 10)\n",
    "- `Rating` — рейтинг от организации [ESRB](https://www.esrb.org/) (англ. Entertainment Software Rating Board). Эта ассоциация определяет рейтинг компьютерных игр и присваивает им подходящую возрастную категорию."
   ]
  },
  {
   "cell_type": "code",
   "execution_count": 3,
   "metadata": {},
   "outputs": [
    {
     "name": "stdout",
     "output_type": "stream",
     "text": [
      "<class 'pandas.core.frame.DataFrame'>\n",
      "RangeIndex: 16715 entries, 0 to 16714\n",
      "Data columns (total 11 columns):\n",
      " #   Column           Non-Null Count  Dtype  \n",
      "---  ------           --------------  -----  \n",
      " 0   Name             16713 non-null  object \n",
      " 1   Platform         16715 non-null  object \n",
      " 2   Year_of_Release  16446 non-null  float64\n",
      " 3   Genre            16713 non-null  object \n",
      " 4   NA_sales         16715 non-null  float64\n",
      " 5   EU_sales         16715 non-null  float64\n",
      " 6   JP_sales         16715 non-null  float64\n",
      " 7   Other_sales      16715 non-null  float64\n",
      " 8   Critic_Score     8137 non-null   float64\n",
      " 9   User_Score       10014 non-null  object \n",
      " 10  Rating           9949 non-null   object \n",
      "dtypes: float64(6), object(5)\n",
      "memory usage: 1.4+ MB\n"
     ]
    }
   ],
   "source": [
    "data.info()\n",
    "original_lengthe_df = data.shape[0] #сохранение исходной длинны DF"
   ]
  },
  {
   "cell_type": "code",
   "execution_count": 4,
   "metadata": {
    "scrolled": false
   },
   "outputs": [
    {
     "data": {
      "image/png": "[encoded data removed]",
      "text/plain": [
       "<Figure size 936x936 with 30 Axes>"
      ]
     },
     "metadata": {
      "needs_background": "light"
     },
     "output_type": "display_data"
    }
   ],
   "source": [
    "sns.pairplot(data[['Year_of_Release', 'NA_sales', 'EU_sales', 'JP_sales', 'Other_sales']])\n",
    "plt.gcf().set_size_inches(13,13);"
   ]
  },
  {
   "cell_type": "code",
   "execution_count": 5,
   "metadata": {},
   "outputs": [],
   "source": [
    "def pass_value_barh(df):\n",
    "    try:\n",
    "        (\n",
    "            (df.isna().mean()*100)\n",
    "            .to_frame()\n",
    "            .rename(columns = {0:'space'})\n",
    "            .query('space > 0')\n",
    "            .sort_values(by = 'space', ascending = True)\n",
    "            .plot(kind = 'barh', figsize = (19,6), rot = 0, legend = False, fontsize = 16)\n",
    "            .set_title('Доля пропусков в колонках датафрейма (значения в %)' + \"\\n\", fontsize = 22, color = 'SteelBlue')    \n",
    "        );    \n",
    "    except:\n",
    "        print('Пропусков не осталось')"
   ]
  },
  {
   "cell_type": "code",
   "execution_count": 6,
   "metadata": {},
   "outputs": [
    {
     "data": {
      "image/png": "[encoded data removed]",
      "text/plain": [
       "<Figure size 1368x432 with 1 Axes>"
      ]
     },
     "metadata": {
      "needs_background": "light"
     },
     "output_type": "display_data"
    }
   ],
   "source": [
    "pass_value_barh(data)"
   ]
  },
  {
   "cell_type": "markdown",
   "metadata": {},
   "source": [
    "<a id='section_2'></a>\n",
    "# 2. Подготовка данных"
   ]
  },
  {
   "cell_type": "markdown",
   "metadata": {},
   "source": [
    "Краткое описание надостатков данных и способов их исправления. Датафрэйм содержит всего **16715** записей и **11** колонок.\n",
    "\n",
    "[Устранить **пропуски**](#section_2_1) с учётом типа данных. Пояснить, причину заполнение пропусков определённым образом и значением. Описать возможную появление пропусков.\n",
    "Обратить внимание на аббревиатуру 'tbd' в столбце с оценкой пользователей. Отдельно разобрать это значение и описать, как его обработать.\n",
    "- [категориальные](#section_2_1): `Name`, `Genre`, `Rating`.\n",
    "- [количественные](#section_2_2): `User_Score`, `Critic_Score`.\n",
    "\n",
    "[Сменить **тип данных**](#section_2_3), на тот что им соответствует:\n",
    "- datetime <- `Year_of_Release`;\n",
    "- float <- `User_Score`;\n",
    "- int <- `Critic_Score`.\n",
    "\n",
    "Следует перезаписать **название** в едином формате _змеиный_регистр_."
   ]
  },
  {
   "cell_type": "code",
   "execution_count": 7,
   "metadata": {},
   "outputs": [],
   "source": [
    "data.columns = data.columns.str.lower() #переименовывание столбца"
   ]
  },
  {
   "cell_type": "markdown",
   "metadata": {},
   "source": [
    "<a id='section_2_1'></a>\n",
    "## 2.1 Пропуски в категориальных данных"
   ]
  },
  {
   "cell_type": "markdown",
   "metadata": {},
   "source": [
    "### `name` - название видеоигр"
   ]
  },
  {
   "cell_type": "markdown",
   "metadata": {},
   "source": [
    "**Пропусков** в этой колонке немного, всего 2: безымянные игры 93-го года публикации без жанра, оценок и рейтинга. Ввиду этого - эти игры не смогут привнести что-либо значимого в процесс оценки успешных жанров или платформ. Их можно удалить. Это не приведёт к уменьшению точности исследования или значительному уменьшению общей выборки.\n",
    "\n",
    "Игры продавались преимущественно на одной территории, и не пользовались сравнительно большой популярностью. Одна из них имеет небольшие продажи исключительно на территории Японии."
   ]
  },
  {
   "cell_type": "code",
   "execution_count": 8,
   "metadata": {},
   "outputs": [],
   "source": [
    "data = data.dropna(subset=['name']) #удаление безымянных игр (2 ед.)\n",
    "data = data.reset_index(drop=True)"
   ]
  },
  {
   "cell_type": "markdown",
   "metadata": {},
   "source": [
    "Удаление **пробелов** в начале и конце название игры. Замена слов на общепринятые сокращения."
   ]
  },
  {
   "cell_type": "code",
   "execution_count": 9,
   "metadata": {},
   "outputs": [],
   "source": [
    "data['name'] = data['name'].str.strip()\n",
    "data['name'] = data['name'].replace('versus', 'vs')"
   ]
  },
  {
   "cell_type": "markdown",
   "metadata": {},
   "source": [
    "**Явные дубликаты** - отсутствуют."
   ]
  },
  {
   "cell_type": "code",
   "execution_count": 10,
   "metadata": {
    "scrolled": false
   },
   "outputs": [
    {
     "data": {
      "text/plain": [
       "0"
      ]
     },
     "execution_count": 10,
     "metadata": {},
     "output_type": "execute_result"
    }
   ],
   "source": [
    "data.duplicated().sum()"
   ]
  },
  {
   "cell_type": "markdown",
   "metadata": {},
   "source": [
    "Пусть не смущает названия начинающихся с `.hack//`- такое имя носит целая серия видеоигра.\n",
    "\n",
    "Добавить знаки препинания, там где их не хватает, к примеру: `007 Racing` и `007: Quantum of Solace`."
   ]
  },
  {
   "cell_type": "code",
   "execution_count": 11,
   "metadata": {
    "scrolled": false
   },
   "outputs": [],
   "source": [
    "befor = ['007 Racing', 'Ace Combat 04: Shattered Skies', \"Agatha Christie's The ABC Murders\"]\n",
    "after = ['007: Racing', 'Ace Combat 4: Shattered Skies', 'Agatha Christie: The ABC Murders']\n",
    "\n",
    "for id in range(len(befor)):\n",
    "    data['name'] = data['name'].replace(befor[id], after[id])"
   ]
  },
  {
   "cell_type": "markdown",
   "metadata": {},
   "source": [
    "<div class=\"alert alert-info\">\n",
    "<font size=\"4\", color = \"black\"><b>✍ Комментарий студента</b></font>\n",
    "    <br /> \n",
    "    <font size=\"3\", color = \"black\">\n",
    "<br /> В следующей теме мне не хватает инстумента для работы со строчными данными в колнке `name`. Вернее, я их не знаю. Я наткнулся на \"Регулярные выражения\", которые позволяют создавать шаблоны для работы с текстом. К счастью, это тема есть в курсе Практикума. А, к моему сожалению, она пока недоступна. Самостоятельные попытки изучить это раньше - не увенчались успехом."
   ]
  },
  {
   "cell_type": "markdown",
   "metadata": {},
   "source": [
    "**Неявные дубликаты** присутствуют в огромном количестве. Некоторые игры записаны дважды. Дублирующая запись имеет особую отметку в названии игры. Эта отметка поясняет о каком типе продаж идёт речь. К примеру: `jp sales` (продажи в Японии), и подобные. В результате сведенья о продаже одной игры разбиты на две отдельные записи."
   ]
  },
  {
   "cell_type": "code",
   "execution_count": 12,
   "metadata": {
    "scrolled": true
   },
   "outputs": [],
   "source": [
    "#особые отметки в названиях игр, выловленные вручную с помощью функции, описанной ниже\n",
    "marks = ['(JP sales)', '(JP Sales)', '(jp sales)', '(old JP sales)', '(Japan Sales)', '(higher JP sales)',\n",
    "         '(JP weekly sales)', '(weekly JP sales)', '(weekly jp sales)', '(JP & Others sales)', '(JP & incomplete US sales)',\n",
    "         '(US sales)', '(US Sales)', '(us sales)', '(old US sales)', '(American Sales)', '(American sales)',\n",
    "         '(US weekly sales)', '(correct US sales)', '(America weekly sales)', '(Weekly american sales)',\n",
    "         '(American and Others sales)', '(US & Others sales)',\n",
    "         '(All Region sales)', '(All region sales)', '(all regions sales)', '(Old all region sales)', '(Others sales)']\n",
    "\n",
    "def find_marked_name(marks_list): #аргумент - список искомых меток\n",
    "    marked_names = [] #список названий с найденными отметками\n",
    "    unmarked_names = []\n",
    "    for mark in marks_list:\n",
    "        for name in sorted(data['name'].unique()):\n",
    "            if name.find(mark) >= 0: #если в названии игры обнаруживается отметка, то:\n",
    "                marked_names.append(name)\n",
    "                unmarked_names.append(name[0:-(len(mark)+1)]) #перечень игр, среди которых встречаются дубликаты\n",
    "    return data[data['name'].isin(marked_names)] #вывод - строки датафрейма с играми имеющие отметки."
   ]
  },
  {
   "cell_type": "markdown",
   "metadata": {},
   "source": [
    "Две игры имеющие недостоверные данные о продажах. Об этом говорят отметки в их названии: `(JP sales, but wrong system)` и `(sales, but wrong system)`"
   ]
  },
  {
   "cell_type": "code",
   "execution_count": 13,
   "metadata": {},
   "outputs": [
    {
     "data": {
      "text/html": [
       "<div>\n",
       "<style scoped>\n",
       "    .dataframe tbody tr th:only-of-type {\n",
       "        vertical-align: middle;\n",
       "    }\n",
       "\n",
       "    .dataframe tbody tr th {\n",
       "        vertical-align: top;\n",
       "    }\n",
       "\n",
       "    .dataframe thead th {\n",
       "        text-align: right;\n",
       "    }\n",
       "</style>\n",
       "<table border=\"1\" class=\"dataframe\">\n",
       "  <thead>\n",
       "    <tr style=\"text-align: right;\">\n",
       "      <th></th>\n",
       "      <th>name</th>\n",
       "      <th>platform</th>\n",
       "      <th>year_of_release</th>\n",
       "      <th>genre</th>\n",
       "      <th>na_sales</th>\n",
       "      <th>eu_sales</th>\n",
       "      <th>jp_sales</th>\n",
       "      <th>other_sales</th>\n",
       "      <th>critic_score</th>\n",
       "      <th>user_score</th>\n",
       "      <th>rating</th>\n",
       "    </tr>\n",
       "  </thead>\n",
       "  <tbody>\n",
       "    <tr>\n",
       "      <th>8999</th>\n",
       "      <td>Lunar 2: Eternal Blue(sales, but wrong system)</td>\n",
       "      <td>GEN</td>\n",
       "      <td>1994.0</td>\n",
       "      <td>Role-Playing</td>\n",
       "      <td>0.0</td>\n",
       "      <td>0.0</td>\n",
       "      <td>0.14</td>\n",
       "      <td>0.0</td>\n",
       "      <td>NaN</td>\n",
       "      <td>NaN</td>\n",
       "      <td>NaN</td>\n",
       "    </tr>\n",
       "    <tr>\n",
       "      <th>16151</th>\n",
       "      <td>Pachi-Slot Teiou: Golgo 13 Las Vegas (JP sales...</td>\n",
       "      <td>PS2</td>\n",
       "      <td>2002.0</td>\n",
       "      <td>Misc</td>\n",
       "      <td>0.0</td>\n",
       "      <td>0.0</td>\n",
       "      <td>0.01</td>\n",
       "      <td>0.0</td>\n",
       "      <td>NaN</td>\n",
       "      <td>NaN</td>\n",
       "      <td>NaN</td>\n",
       "    </tr>\n",
       "  </tbody>\n",
       "</table>\n",
       "</div>"
      ],
      "text/plain": [
       "                                                    name platform  \\\n",
       "8999      Lunar 2: Eternal Blue(sales, but wrong system)      GEN   \n",
       "16151  Pachi-Slot Teiou: Golgo 13 Las Vegas (JP sales...      PS2   \n",
       "\n",
       "       year_of_release         genre  na_sales  eu_sales  jp_sales  \\\n",
       "8999            1994.0  Role-Playing       0.0       0.0      0.14   \n",
       "16151           2002.0          Misc       0.0       0.0      0.01   \n",
       "\n",
       "       other_sales  critic_score user_score rating  \n",
       "8999           0.0           NaN        NaN    NaN  \n",
       "16151          0.0           NaN        NaN    NaN  "
      ]
     },
     "metadata": {},
     "output_type": "display_data"
    }
   ],
   "source": [
    "display(find_marked_name(['(JP sales, but wrong system)', '(sales, but wrong system']).sort_values(by='name'))\n",
    "data = data.drop(index = find_marked_name(['(JP sales, but wrong system)', '(sales, but wrong system)']).index)"
   ]
  },
  {
   "cell_type": "code",
   "execution_count": 14,
   "metadata": {
    "scrolled": false
   },
   "outputs": [
    {
     "data": {
      "text/html": [
       "<div>\n",
       "<style scoped>\n",
       "    .dataframe tbody tr th:only-of-type {\n",
       "        vertical-align: middle;\n",
       "    }\n",
       "\n",
       "    .dataframe tbody tr th {\n",
       "        vertical-align: top;\n",
       "    }\n",
       "\n",
       "    .dataframe thead th {\n",
       "        text-align: right;\n",
       "    }\n",
       "</style>\n",
       "<table border=\"1\" class=\"dataframe\">\n",
       "  <thead>\n",
       "    <tr style=\"text-align: right;\">\n",
       "      <th></th>\n",
       "      <th>name</th>\n",
       "      <th>platform</th>\n",
       "      <th>year_of_release</th>\n",
       "      <th>genre</th>\n",
       "      <th>na_sales</th>\n",
       "      <th>eu_sales</th>\n",
       "      <th>jp_sales</th>\n",
       "      <th>other_sales</th>\n",
       "      <th>critic_score</th>\n",
       "      <th>user_score</th>\n",
       "      <th>rating</th>\n",
       "    </tr>\n",
       "  </thead>\n",
       "  <tbody>\n",
       "    <tr>\n",
       "      <th>5454</th>\n",
       "      <td>Ape Escape Academy</td>\n",
       "      <td>PSP</td>\n",
       "      <td>2004.0</td>\n",
       "      <td>Misc</td>\n",
       "      <td>0.13</td>\n",
       "      <td>0.15</td>\n",
       "      <td>0.00</td>\n",
       "      <td>0.05</td>\n",
       "      <td>51.0</td>\n",
       "      <td>5.8</td>\n",
       "      <td>E10+</td>\n",
       "    </tr>\n",
       "    <tr>\n",
       "      <th>9248</th>\n",
       "      <td>Ape Escape Academy (jp sales)</td>\n",
       "      <td>PSP</td>\n",
       "      <td>2004.0</td>\n",
       "      <td>Misc</td>\n",
       "      <td>0.00</td>\n",
       "      <td>0.00</td>\n",
       "      <td>0.13</td>\n",
       "      <td>0.00</td>\n",
       "      <td>NaN</td>\n",
       "      <td>NaN</td>\n",
       "      <td>NaN</td>\n",
       "    </tr>\n",
       "  </tbody>\n",
       "</table>\n",
       "</div>"
      ],
      "text/plain": [
       "                               name platform  year_of_release genre  na_sales  \\\n",
       "5454             Ape Escape Academy      PSP           2004.0  Misc      0.13   \n",
       "9248  Ape Escape Academy (jp sales)      PSP           2004.0  Misc      0.00   \n",
       "\n",
       "      eu_sales  jp_sales  other_sales  critic_score user_score rating  \n",
       "5454      0.15      0.00         0.05          51.0        5.8   E10+  \n",
       "9248      0.00      0.13         0.00           NaN        NaN    NaN  "
      ]
     },
     "metadata": {},
     "output_type": "display_data"
    }
   ],
   "source": [
    "display(data[(data['name']=='Ape Escape Academy') | (data['name']=='Ape Escape Academy (jp sales)')])\n",
    "\n",
    "data.loc[data['name']=='Ape Escape Academy', 'jp_sales'] = \\\n",
    "    data.loc[data['name']=='Ape Escape Academy (jp sales)', 'jp_sales'].values\n",
    "\n",
    "data = data.drop(index=data[data['name']=='Ape Escape Academy (jp sales)'].index)"
   ]
  },
  {
   "cell_type": "markdown",
   "metadata": {},
   "source": [
    "#Для этой ячейки намеренно был изменён тип на: Markdown, дабы не исполнялся отрезок кода.\n",
    "#Попытка произвести лемматизацию:\n",
    "\n",
    "#серии видеоигра / игровые франшизы. Исключение дублирования по игровым платформам.\n",
    "game_series = data.groupby('name', as_index=False)['platform'].count()\n",
    "\n",
    "for i in range(game_series.shape[0]):\n",
    "    game_series.loc[i,'short_name'] = str(game_series.loc[i, 'name'])[0:10] #выделение однокоренных названий\n",
    "\n",
    "game_series = game_series[game_series['short_name'].duplicated()].sort_values(by='name').reset_index(drop=True)\n",
    "display(game_series)"
   ]
  },
  {
   "cell_type": "markdown",
   "metadata": {},
   "source": [
    "Устранение дублирование в названии игры \"**Adventure Time: The Secret of the Nameless Kingdom**\" и её продажах. Та эту ошибку наткнулся случайно в процессе визуального осмотра исходных данных."
   ]
  },
  {
   "cell_type": "code",
   "execution_count": 15,
   "metadata": {
    "scrolled": true
   },
   "outputs": [
    {
     "data": {
      "text/html": [
       "<div>\n",
       "<style scoped>\n",
       "    .dataframe tbody tr th:only-of-type {\n",
       "        vertical-align: middle;\n",
       "    }\n",
       "\n",
       "    .dataframe tbody tr th {\n",
       "        vertical-align: top;\n",
       "    }\n",
       "\n",
       "    .dataframe thead th {\n",
       "        text-align: right;\n",
       "    }\n",
       "</style>\n",
       "<table border=\"1\" class=\"dataframe\">\n",
       "  <thead>\n",
       "    <tr style=\"text-align: right;\">\n",
       "      <th></th>\n",
       "      <th>name</th>\n",
       "      <th>platform</th>\n",
       "      <th>year_of_release</th>\n",
       "      <th>genre</th>\n",
       "      <th>na_sales</th>\n",
       "      <th>eu_sales</th>\n",
       "      <th>jp_sales</th>\n",
       "      <th>other_sales</th>\n",
       "      <th>critic_score</th>\n",
       "      <th>user_score</th>\n",
       "      <th>rating</th>\n",
       "    </tr>\n",
       "  </thead>\n",
       "  <tbody>\n",
       "    <tr>\n",
       "      <th>11435</th>\n",
       "      <td>Adventure Time: The Secret of the Nameless Kin...</td>\n",
       "      <td>3DS</td>\n",
       "      <td>2014.0</td>\n",
       "      <td>Action</td>\n",
       "      <td>0.0</td>\n",
       "      <td>0.07</td>\n",
       "      <td>0.0</td>\n",
       "      <td>0.0</td>\n",
       "      <td>65.0</td>\n",
       "      <td>5.6</td>\n",
       "      <td>E10+</td>\n",
       "    </tr>\n",
       "    <tr>\n",
       "      <th>12640</th>\n",
       "      <td>Adventure Time: The Secret of the Nameless Kin...</td>\n",
       "      <td>X360</td>\n",
       "      <td>2014.0</td>\n",
       "      <td>Action</td>\n",
       "      <td>0.0</td>\n",
       "      <td>0.05</td>\n",
       "      <td>0.0</td>\n",
       "      <td>0.0</td>\n",
       "      <td>58.0</td>\n",
       "      <td>7.5</td>\n",
       "      <td>E10+</td>\n",
       "    </tr>\n",
       "  </tbody>\n",
       "</table>\n",
       "</div>"
      ],
      "text/plain": [
       "                                                    name platform  \\\n",
       "11435  Adventure Time: The Secret of the Nameless Kin...      3DS   \n",
       "12640  Adventure Time: The Secret of the Nameless Kin...     X360   \n",
       "\n",
       "       year_of_release   genre  na_sales  eu_sales  jp_sales  other_sales  \\\n",
       "11435           2014.0  Action       0.0      0.07       0.0          0.0   \n",
       "12640           2014.0  Action       0.0      0.05       0.0          0.0   \n",
       "\n",
       "       critic_score user_score rating  \n",
       "11435          65.0        5.6   E10+  \n",
       "12640          58.0        7.5   E10+  "
      ]
     },
     "metadata": {},
     "output_type": "display_data"
    },
    {
     "data": {
      "text/html": [
       "<div>\n",
       "<style scoped>\n",
       "    .dataframe tbody tr th:only-of-type {\n",
       "        vertical-align: middle;\n",
       "    }\n",
       "\n",
       "    .dataframe tbody tr th {\n",
       "        vertical-align: top;\n",
       "    }\n",
       "\n",
       "    .dataframe thead th {\n",
       "        text-align: right;\n",
       "    }\n",
       "</style>\n",
       "<table border=\"1\" class=\"dataframe\">\n",
       "  <thead>\n",
       "    <tr style=\"text-align: right;\">\n",
       "      <th></th>\n",
       "      <th>name</th>\n",
       "      <th>platform</th>\n",
       "      <th>year_of_release</th>\n",
       "      <th>genre</th>\n",
       "      <th>na_sales</th>\n",
       "      <th>eu_sales</th>\n",
       "      <th>jp_sales</th>\n",
       "      <th>other_sales</th>\n",
       "      <th>critic_score</th>\n",
       "      <th>user_score</th>\n",
       "      <th>rating</th>\n",
       "    </tr>\n",
       "  </thead>\n",
       "  <tbody>\n",
       "    <tr>\n",
       "      <th>16008</th>\n",
       "      <td>Adventure Time: The Secret of the Nameless</td>\n",
       "      <td>3DS</td>\n",
       "      <td>2014.0</td>\n",
       "      <td>Adventure</td>\n",
       "      <td>0.01</td>\n",
       "      <td>0.0</td>\n",
       "      <td>0.0</td>\n",
       "      <td>0.0</td>\n",
       "      <td>NaN</td>\n",
       "      <td>NaN</td>\n",
       "      <td>NaN</td>\n",
       "    </tr>\n",
       "    <tr>\n",
       "      <th>16292</th>\n",
       "      <td>Adventure Time: The Secret of the Nameless</td>\n",
       "      <td>X360</td>\n",
       "      <td>2014.0</td>\n",
       "      <td>Adventure</td>\n",
       "      <td>0.01</td>\n",
       "      <td>0.0</td>\n",
       "      <td>0.0</td>\n",
       "      <td>0.0</td>\n",
       "      <td>NaN</td>\n",
       "      <td>NaN</td>\n",
       "      <td>NaN</td>\n",
       "    </tr>\n",
       "  </tbody>\n",
       "</table>\n",
       "</div>"
      ],
      "text/plain": [
       "                                             name platform  year_of_release  \\\n",
       "16008  Adventure Time: The Secret of the Nameless      3DS           2014.0   \n",
       "16292  Adventure Time: The Secret of the Nameless     X360           2014.0   \n",
       "\n",
       "           genre  na_sales  eu_sales  jp_sales  other_sales  critic_score  \\\n",
       "16008  Adventure      0.01       0.0       0.0          0.0           NaN   \n",
       "16292  Adventure      0.01       0.0       0.0          0.0           NaN   \n",
       "\n",
       "      user_score rating  \n",
       "16008        NaN    NaN  \n",
       "16292        NaN    NaN  "
      ]
     },
     "metadata": {},
     "output_type": "display_data"
    }
   ],
   "source": [
    "display(data[data['name']=='Adventure Time: The Secret of the Nameless Kingdom'])\n",
    "display(data[data['name']=='Adventure Time: The Secret of the Nameless'])\n",
    "\n",
    "data.loc[(data['name']=='Adventure Time: The Secret of the Nameless Kingdom') & (data['platform']=='3DS'), 'na_sales'] = \\\n",
    "    data.loc[(data['name']=='Adventure Time: The Secret of the Nameless') & (data['platform']=='3DS'), 'na_sales'].values\n",
    "data.loc[(data['name']=='Adventure Time: The Secret of the Nameless Kingdom') & (data['platform']=='X360'), 'na_sales'] = \\\n",
    "    data.loc[(data['name']=='Adventure Time: The Secret of the Nameless') & (data['platform']=='X360'), 'na_sales'].values\n",
    "\n",
    "#data = data.drop(index=data[data['name']=='Adventure Time: The Secret of the Nameless'].index)\n",
    "data = data[data['name'] != 'Adventure Time: The Secret of the Nameless']"
   ]
  },
  {
   "cell_type": "markdown",
   "metadata": {},
   "source": [
    "_Примечание:_ На этапе **3.2**, при более детальном знакомстве с данными была обнаружена **аномалия** для `Nintendo DS`. Игровая приставка была выпущена в 2004 году, а аномальная игра в 1985, что соответственно не сходится. Причина такого происшествия, оказалось в том, что игра `Strongest Tokyo University Shogi` была действительно выпушена в 1985 году, а её версия для Nintendo DS была адаптирована 2010."
   ]
  },
  {
   "cell_type": "code",
   "execution_count": 16,
   "metadata": {},
   "outputs": [
    {
     "data": {
      "text/html": [
       "<div>\n",
       "<style scoped>\n",
       "    .dataframe tbody tr th:only-of-type {\n",
       "        vertical-align: middle;\n",
       "    }\n",
       "\n",
       "    .dataframe tbody tr th {\n",
       "        vertical-align: top;\n",
       "    }\n",
       "\n",
       "    .dataframe thead th {\n",
       "        text-align: right;\n",
       "    }\n",
       "</style>\n",
       "<table border=\"1\" class=\"dataframe\">\n",
       "  <thead>\n",
       "    <tr style=\"text-align: right;\">\n",
       "      <th></th>\n",
       "      <th>name</th>\n",
       "      <th>platform</th>\n",
       "      <th>year_of_release</th>\n",
       "      <th>genre</th>\n",
       "      <th>na_sales</th>\n",
       "      <th>eu_sales</th>\n",
       "      <th>jp_sales</th>\n",
       "      <th>other_sales</th>\n",
       "      <th>critic_score</th>\n",
       "      <th>user_score</th>\n",
       "      <th>rating</th>\n",
       "    </tr>\n",
       "  </thead>\n",
       "  <tbody>\n",
       "    <tr>\n",
       "      <th>15955</th>\n",
       "      <td>Strongest Tokyo University Shogi DS</td>\n",
       "      <td>DS</td>\n",
       "      <td>1985.0</td>\n",
       "      <td>Action</td>\n",
       "      <td>0.0</td>\n",
       "      <td>0.0</td>\n",
       "      <td>0.02</td>\n",
       "      <td>0.0</td>\n",
       "      <td>NaN</td>\n",
       "      <td>NaN</td>\n",
       "      <td>NaN</td>\n",
       "    </tr>\n",
       "  </tbody>\n",
       "</table>\n",
       "</div>"
      ],
      "text/plain": [
       "                                      name platform  year_of_release   genre  \\\n",
       "15955  Strongest Tokyo University Shogi DS       DS           1985.0  Action   \n",
       "\n",
       "       na_sales  eu_sales  jp_sales  other_sales  critic_score user_score  \\\n",
       "15955       0.0       0.0      0.02          0.0           NaN        NaN   \n",
       "\n",
       "      rating  \n",
       "15955    NaN  "
      ]
     },
     "metadata": {},
     "output_type": "display_data"
    },
    {
     "data": {
      "text/html": [
       "<div>\n",
       "<style scoped>\n",
       "    .dataframe tbody tr th:only-of-type {\n",
       "        vertical-align: middle;\n",
       "    }\n",
       "\n",
       "    .dataframe tbody tr th {\n",
       "        vertical-align: top;\n",
       "    }\n",
       "\n",
       "    .dataframe thead th {\n",
       "        text-align: right;\n",
       "    }\n",
       "</style>\n",
       "<table border=\"1\" class=\"dataframe\">\n",
       "  <thead>\n",
       "    <tr style=\"text-align: right;\">\n",
       "      <th></th>\n",
       "      <th>name</th>\n",
       "      <th>platform</th>\n",
       "      <th>year_of_release</th>\n",
       "      <th>genre</th>\n",
       "      <th>na_sales</th>\n",
       "      <th>eu_sales</th>\n",
       "      <th>jp_sales</th>\n",
       "      <th>other_sales</th>\n",
       "      <th>critic_score</th>\n",
       "      <th>user_score</th>\n",
       "      <th>rating</th>\n",
       "    </tr>\n",
       "  </thead>\n",
       "  <tbody>\n",
       "    <tr>\n",
       "      <th>15955</th>\n",
       "      <td>Strongest Tokyo University Shogi DS</td>\n",
       "      <td>DS</td>\n",
       "      <td>2010.0</td>\n",
       "      <td>Action</td>\n",
       "      <td>0.0</td>\n",
       "      <td>0.0</td>\n",
       "      <td>0.02</td>\n",
       "      <td>0.0</td>\n",
       "      <td>NaN</td>\n",
       "      <td>NaN</td>\n",
       "      <td>NaN</td>\n",
       "    </tr>\n",
       "  </tbody>\n",
       "</table>\n",
       "</div>"
      ],
      "text/plain": [
       "                                      name platform  year_of_release   genre  \\\n",
       "15955  Strongest Tokyo University Shogi DS       DS           2010.0  Action   \n",
       "\n",
       "       na_sales  eu_sales  jp_sales  other_sales  critic_score user_score  \\\n",
       "15955       0.0       0.0      0.02          0.0           NaN        NaN   \n",
       "\n",
       "      rating  \n",
       "15955    NaN  "
      ]
     },
     "metadata": {},
     "output_type": "display_data"
    }
   ],
   "source": [
    "display(data[(data['platform'] == 'DS') & (data['year_of_release'] < 2004)])\n",
    "data.loc[(data['platform'] == 'DS') & (data['year_of_release'] < 2004), 'year_of_release'] = 2010\n",
    "display(data[data['name'] == 'Strongest Tokyo University Shogi DS'])"
   ]
  },
  {
   "cell_type": "markdown",
   "metadata": {},
   "source": [
    "### `platform` - игровые платформы"
   ]
  },
  {
   "cell_type": "markdown",
   "metadata": {},
   "source": [
    "Неявные дубликаты - отсутствуют. Все уникальные значения - являются таковыми, и представляют из себя сокращения или  аббревиатуры названий платформ."
   ]
  },
  {
   "cell_type": "code",
   "execution_count": 17,
   "metadata": {
    "scrolled": false
   },
   "outputs": [
    {
     "data": {
      "text/plain": [
       "array(['Wii', 'NES', 'GB', 'DS', 'X360', 'PS3', 'PS2', 'SNES', 'GBA',\n",
       "       'PS4', '3DS', 'N64', 'PS', 'XB', 'PC', '2600', 'PSP', 'XOne',\n",
       "       'WiiU', 'GC', 'GEN', 'DC', 'PSV', 'SAT', 'SCD', 'WS', 'NG', 'TG16',\n",
       "       '3DO', 'GG', 'PCFX'], dtype=object)"
      ]
     },
     "execution_count": 17,
     "metadata": {},
     "output_type": "execute_result"
    }
   ],
   "source": [
    "data['platform'].unique()"
   ]
  },
  {
   "cell_type": "markdown",
   "metadata": {},
   "source": [
    "### `genre` - игровые жанры"
   ]
  },
  {
   "cell_type": "markdown",
   "metadata": {},
   "source": [
    "Неявные дубликаты - отсутствуют. От пропусков можно избавиться 2мя вариантами: жанры могут быть заполнены вручную на актуальные данные, дабы не вносить искажения. Но т.к. это трудоёмкий процесс, встаёт вопрос о целесообразности потраченного времени. Альтернативный вариант: замена пропущенных жанров на значение 'unnamed_genre' - если возникнет такая необходимость."
   ]
  },
  {
   "cell_type": "code",
   "execution_count": 18,
   "metadata": {
    "scrolled": false
   },
   "outputs": [
    {
     "data": {
      "text/plain": [
       "array(['Sports', 'Platform', 'Racing', 'Role-Playing', 'Puzzle', 'Misc',\n",
       "       'Shooter', 'Simulation', 'Action', 'Fighting', 'Adventure',\n",
       "       'Strategy'], dtype=object)"
      ]
     },
     "execution_count": 18,
     "metadata": {},
     "output_type": "execute_result"
    }
   ],
   "source": [
    "data['genre'].unique()"
   ]
  },
  {
   "cell_type": "markdown",
   "metadata": {},
   "source": [
    "### `rating` - рейтинг игр"
   ]
  },
  {
   "cell_type": "markdown",
   "metadata": {},
   "source": [
    "В наборе данных попадается аббревиатура [ESRB](https://www.esrb.org/). Это ассоциация оценивает игровой контент и присваивает ему подходящую возрастную категорию, например: «Для взрослых», «Для детей младшего возраста» или «Для подростков»."
   ]
  },
  {
   "cell_type": "code",
   "execution_count": 19,
   "metadata": {},
   "outputs": [
    {
     "name": "stdout",
     "output_type": "stream",
     "text": [
      "['E' nan 'M' 'T' 'E10+' 'K-A' 'AO' 'EC' 'RP']\n",
      "['E' nan 'M' 'T' 'E10+' 'AO' 'EC' 'RP']\n"
     ]
    }
   ],
   "source": [
    "print(data['rating'].unique())\n",
    "data.loc[data['rating'] == 'K-A', 'rating'] = 'E'\n",
    "print(data['rating'].unique())"
   ]
  },
  {
   "cell_type": "markdown",
   "metadata": {},
   "source": [
    "Расшифровка (порядке увеличения возростной группы):\n",
    "- `EC` («Early childhood») — «Для детей младшего возраста»\n",
    "- `E` («Everyone») — «Для всех» ('K-A' - старое обозначение)\n",
    "- `E10+` («Everyone 10 and older») — «Для всех от 10 лет и старше»\n",
    "- `T` («Teen») — «Подросткам»: Игра подходит для лиц от 13 лет.\n",
    "- `M` («Mature») — «Для взрослых» \n",
    "- `AO` («Adults Only 18+») — «Только для взрослых» \n",
    "- `RP` («Rating Pending») — «Рейтинг ожидается»: Продукт был отправлен в ESRB и ожидает присвоения рейтинга."
   ]
  },
  {
   "cell_type": "markdown",
   "metadata": {},
   "source": [
    "<a id='section_2_2'></a>\n",
    "## 2.2 Пропуски в количественных данных"
   ]
  },
  {
   "cell_type": "markdown",
   "metadata": {},
   "source": [
    "### `user_score` - оценки игроков"
   ]
  },
  {
   "cell_type": "markdown",
   "metadata": {},
   "source": [
    "В этом столбце встречается значение **tbd**. Таких строк около 2400 шт. Эта аббревиатура может расшифровываться как: \"To Be Determined\" - \"Будет определено\", т.е. игру ещё предстоит оценить (если она новая), или оценки пользователей требуется собрать воедино и произвести подсчёт.\n",
    "\n",
    "Чтобы заменить эти значения, необходимо обратиться к источнику этих данны за обновлёнными оценками. С течением времени, расчёт оценки для никоторых игр мог быть завершен. Если оценка игры по прежнему остаётся в статусе \"To Be Determined\", вероятно для расчёта нет достаточного количества значений и её оценка не может считаться достоверной."
   ]
  },
  {
   "cell_type": "code",
   "execution_count": 20,
   "metadata": {},
   "outputs": [
    {
     "data": {
      "text/plain": [
       "array(['8', nan, '8.3', '8.5', '6.6', '8.4', '8.6', '7.7', '6.3', '7.4',\n",
       "       '8.2', '9', '7.9', '8.1', '8.7', '7.1', '3.4', '5.3', '4.8', '3.2',\n",
       "       '8.9', '6.4', '7.8', '7.5', '2.6', '7.2', '9.2', '7', '7.3', '4.3',\n",
       "       '7.6', '5.7', '5', '9.1', '6.5', 'tbd', '8.8', '6.9', '9.4', '6.8',\n",
       "       '6.1', '6.7', '5.4', '4', '4.9', '4.5', '9.3', '6.2', '4.2', '6',\n",
       "       '3.7', '4.1', '5.8', '5.6', '5.5', '4.4', '4.6', '5.9', '3.9',\n",
       "       '3.1', '2.9', '5.2', '3.3', '4.7', '5.1', '3.5', '2.5', '1.9', '3',\n",
       "       '2.7', '2.2', '2', '9.5', '2.1', '3.6', '2.8', '1.8', '3.8', '0',\n",
       "       '1.6', '9.6', '2.4', '1.7', '1.1', '0.3', '1.5', '0.7', '1.2',\n",
       "       '2.3', '0.5', '1.3', '0.2', '0.6', '1.4', '0.9', '1', '9.7'],\n",
       "      dtype=object)"
      ]
     },
     "execution_count": 20,
     "metadata": {},
     "output_type": "execute_result"
    }
   ],
   "source": [
    "data['user_score'].unique()"
   ]
  },
  {
   "cell_type": "code",
   "execution_count": 21,
   "metadata": {},
   "outputs": [
    {
     "data": {
      "image/png": "[encoded data removed]",
      "text/plain": [
       "<Figure size 432x288 with 1 Axes>"
      ]
     },
     "metadata": {
      "needs_background": "light"
     },
     "output_type": "display_data"
    }
   ],
   "source": [
    "data['year_of_release'].hist(bins=37)\n",
    "data.loc[data['user_score'].isna(), 'year_of_release'].hist(bins=19)\n",
    "data.loc[data['user_score']=='tbd', 'year_of_release'].hist(bins=19)\n",
    "plt.show()\n",
    "#data['all_sales'].hist(bins=37, range=(0, 6))\n",
    "#data.loc[data['user_score']=='tbd', 'all_sales'].hist(bins=8, range=(-0.5, 7.5))"
   ]
  },
  {
   "cell_type": "markdown",
   "metadata": {},
   "source": [
    "Заполнение пропусков в оценках искуственными данными может повлечь сильные искажения, т.к. их доля велика - 59% Дабы сохранить достоверность исходных данных, замена производиться не будет. Взамен этого лучше запросить обновлённые оценки, о которых шла речь выше, и таким образом увеличить выборку.\n",
    "\n",
    "Такая массовость пропуском может говорить о систематичной ошибке. Возможно, некоторые ресурсы, с которых собирались данные используют другую систему оценок (отличной от 100 бальной), и их значения ошибочно заменили пропусками."
   ]
  },
  {
   "cell_type": "code",
   "execution_count": 22,
   "metadata": {},
   "outputs": [
    {
     "name": "stdout",
     "output_type": "stream",
     "text": [
      "Доля пропусков: 59.9%\n"
     ]
    }
   ],
   "source": [
    "print('Доля пропусков: {:.1%}'.format(\n",
    "    data.loc[~data['user_score'].isna(), 'user_score'].count() / original_lengthe_df\n",
    "    ))"
   ]
  },
  {
   "cell_type": "markdown",
   "metadata": {},
   "source": [
    "Заведомо ложные оценки (отрицательные или свыше 10 баллов)  - отсутствуют"
   ]
  },
  {
   "cell_type": "code",
   "execution_count": 23,
   "metadata": {
    "scrolled": true
   },
   "outputs": [
    {
     "data": {
      "text/plain": [
       "0"
      ]
     },
     "execution_count": 23,
     "metadata": {},
     "output_type": "execute_result"
    }
   ],
   "source": [
    "numerical_user_score = data.loc[(data['user_score'] != 'tbd') & (~data['user_score'].isna()), 'user_score'].astype('float')\n",
    "numerical_user_score[(numerical_user_score < 0) | (numerical_user_score > 10)].count()"
   ]
  },
  {
   "cell_type": "markdown",
   "metadata": {},
   "source": [
    "### `critic_score` - оценки критиков"
   ]
  },
  {
   "cell_type": "code",
   "execution_count": 24,
   "metadata": {
    "scrolled": false
   },
   "outputs": [
    {
     "data": {
      "text/plain": [
       "array([76., nan, 82., 80., 89., 58., 87., 91., 61., 97., 95., 77., 88.,\n",
       "       83., 94., 93., 85., 86., 98., 96., 90., 84., 73., 74., 78., 92.,\n",
       "       71., 72., 68., 62., 49., 67., 81., 66., 56., 79., 70., 59., 64.,\n",
       "       75., 60., 63., 69., 50., 25., 42., 44., 55., 48., 57., 29., 47.,\n",
       "       65., 54., 20., 53., 37., 38., 33., 52., 30., 32., 43., 45., 51.,\n",
       "       40., 46., 39., 34., 35., 41., 36., 28., 31., 27., 26., 19., 23.,\n",
       "       24., 21., 17., 22., 13.])"
      ]
     },
     "execution_count": 24,
     "metadata": {},
     "output_type": "execute_result"
    }
   ],
   "source": [
    "data['critic_score'].unique()"
   ]
  },
  {
   "cell_type": "markdown",
   "metadata": {},
   "source": [
    "Заведомо ложные оценки (отрицательные или свыше 100 баллов)  - отсутствуют"
   ]
  },
  {
   "cell_type": "code",
   "execution_count": 25,
   "metadata": {
    "scrolled": false
   },
   "outputs": [
    {
     "data": {
      "text/plain": [
       "0"
      ]
     },
     "execution_count": 25,
     "metadata": {},
     "output_type": "execute_result"
    }
   ],
   "source": [
    "data.loc[(data['critic_score'] < 0) | (data['critic_score'] > 100), 'critic_score'].count()"
   ]
  },
  {
   "cell_type": "markdown",
   "metadata": {},
   "source": [
    "### `year_of_release` - год издания игры"
   ]
  },
  {
   "cell_type": "code",
   "execution_count": 26,
   "metadata": {},
   "outputs": [
    {
     "data": {
      "text/html": [
       "<div>\n",
       "<style scoped>\n",
       "    .dataframe tbody tr th:only-of-type {\n",
       "        vertical-align: middle;\n",
       "    }\n",
       "\n",
       "    .dataframe tbody tr th {\n",
       "        vertical-align: top;\n",
       "    }\n",
       "\n",
       "    .dataframe thead th {\n",
       "        text-align: right;\n",
       "    }\n",
       "</style>\n",
       "<table border=\"1\" class=\"dataframe\">\n",
       "  <thead>\n",
       "    <tr style=\"text-align: right;\">\n",
       "      <th></th>\n",
       "      <th>year_of_release</th>\n",
       "      <th>name</th>\n",
       "    </tr>\n",
       "  </thead>\n",
       "  <tbody>\n",
       "    <tr>\n",
       "      <th>0</th>\n",
       "      <td>1980.0</td>\n",
       "      <td>9</td>\n",
       "    </tr>\n",
       "    <tr>\n",
       "      <th>1</th>\n",
       "      <td>1981.0</td>\n",
       "      <td>46</td>\n",
       "    </tr>\n",
       "    <tr>\n",
       "      <th>2</th>\n",
       "      <td>1982.0</td>\n",
       "      <td>36</td>\n",
       "    </tr>\n",
       "    <tr>\n",
       "      <th>3</th>\n",
       "      <td>1983.0</td>\n",
       "      <td>17</td>\n",
       "    </tr>\n",
       "    <tr>\n",
       "      <th>4</th>\n",
       "      <td>1984.0</td>\n",
       "      <td>14</td>\n",
       "    </tr>\n",
       "    <tr>\n",
       "      <th>5</th>\n",
       "      <td>1985.0</td>\n",
       "      <td>13</td>\n",
       "    </tr>\n",
       "    <tr>\n",
       "      <th>6</th>\n",
       "      <td>1986.0</td>\n",
       "      <td>21</td>\n",
       "    </tr>\n",
       "    <tr>\n",
       "      <th>7</th>\n",
       "      <td>1987.0</td>\n",
       "      <td>16</td>\n",
       "    </tr>\n",
       "    <tr>\n",
       "      <th>8</th>\n",
       "      <td>1988.0</td>\n",
       "      <td>15</td>\n",
       "    </tr>\n",
       "    <tr>\n",
       "      <th>9</th>\n",
       "      <td>1989.0</td>\n",
       "      <td>17</td>\n",
       "    </tr>\n",
       "    <tr>\n",
       "      <th>10</th>\n",
       "      <td>1990.0</td>\n",
       "      <td>16</td>\n",
       "    </tr>\n",
       "    <tr>\n",
       "      <th>11</th>\n",
       "      <td>1991.0</td>\n",
       "      <td>41</td>\n",
       "    </tr>\n",
       "    <tr>\n",
       "      <th>12</th>\n",
       "      <td>1992.0</td>\n",
       "      <td>43</td>\n",
       "    </tr>\n",
       "    <tr>\n",
       "      <th>13</th>\n",
       "      <td>1993.0</td>\n",
       "      <td>60</td>\n",
       "    </tr>\n",
       "    <tr>\n",
       "      <th>14</th>\n",
       "      <td>1994.0</td>\n",
       "      <td>120</td>\n",
       "    </tr>\n",
       "    <tr>\n",
       "      <th>15</th>\n",
       "      <td>1995.0</td>\n",
       "      <td>219</td>\n",
       "    </tr>\n",
       "    <tr>\n",
       "      <th>16</th>\n",
       "      <td>1996.0</td>\n",
       "      <td>263</td>\n",
       "    </tr>\n",
       "    <tr>\n",
       "      <th>17</th>\n",
       "      <td>1997.0</td>\n",
       "      <td>289</td>\n",
       "    </tr>\n",
       "    <tr>\n",
       "      <th>18</th>\n",
       "      <td>1998.0</td>\n",
       "      <td>379</td>\n",
       "    </tr>\n",
       "    <tr>\n",
       "      <th>19</th>\n",
       "      <td>1999.0</td>\n",
       "      <td>338</td>\n",
       "    </tr>\n",
       "    <tr>\n",
       "      <th>20</th>\n",
       "      <td>2000.0</td>\n",
       "      <td>350</td>\n",
       "    </tr>\n",
       "    <tr>\n",
       "      <th>21</th>\n",
       "      <td>2001.0</td>\n",
       "      <td>482</td>\n",
       "    </tr>\n",
       "    <tr>\n",
       "      <th>22</th>\n",
       "      <td>2002.0</td>\n",
       "      <td>828</td>\n",
       "    </tr>\n",
       "    <tr>\n",
       "      <th>23</th>\n",
       "      <td>2003.0</td>\n",
       "      <td>775</td>\n",
       "    </tr>\n",
       "    <tr>\n",
       "      <th>24</th>\n",
       "      <td>2004.0</td>\n",
       "      <td>761</td>\n",
       "    </tr>\n",
       "    <tr>\n",
       "      <th>25</th>\n",
       "      <td>2005.0</td>\n",
       "      <td>939</td>\n",
       "    </tr>\n",
       "    <tr>\n",
       "      <th>26</th>\n",
       "      <td>2006.0</td>\n",
       "      <td>1006</td>\n",
       "    </tr>\n",
       "    <tr>\n",
       "      <th>27</th>\n",
       "      <td>2007.0</td>\n",
       "      <td>1197</td>\n",
       "    </tr>\n",
       "    <tr>\n",
       "      <th>28</th>\n",
       "      <td>2008.0</td>\n",
       "      <td>1427</td>\n",
       "    </tr>\n",
       "    <tr>\n",
       "      <th>29</th>\n",
       "      <td>2009.0</td>\n",
       "      <td>1426</td>\n",
       "    </tr>\n",
       "    <tr>\n",
       "      <th>30</th>\n",
       "      <td>2010.0</td>\n",
       "      <td>1256</td>\n",
       "    </tr>\n",
       "    <tr>\n",
       "      <th>31</th>\n",
       "      <td>2011.0</td>\n",
       "      <td>1136</td>\n",
       "    </tr>\n",
       "    <tr>\n",
       "      <th>32</th>\n",
       "      <td>2012.0</td>\n",
       "      <td>653</td>\n",
       "    </tr>\n",
       "    <tr>\n",
       "      <th>33</th>\n",
       "      <td>2013.0</td>\n",
       "      <td>544</td>\n",
       "    </tr>\n",
       "    <tr>\n",
       "      <th>34</th>\n",
       "      <td>2014.0</td>\n",
       "      <td>579</td>\n",
       "    </tr>\n",
       "    <tr>\n",
       "      <th>35</th>\n",
       "      <td>2015.0</td>\n",
       "      <td>606</td>\n",
       "    </tr>\n",
       "    <tr>\n",
       "      <th>36</th>\n",
       "      <td>2016.0</td>\n",
       "      <td>502</td>\n",
       "    </tr>\n",
       "  </tbody>\n",
       "</table>\n",
       "</div>"
      ],
      "text/plain": [
       "    year_of_release  name\n",
       "0            1980.0     9\n",
       "1            1981.0    46\n",
       "2            1982.0    36\n",
       "3            1983.0    17\n",
       "4            1984.0    14\n",
       "5            1985.0    13\n",
       "6            1986.0    21\n",
       "7            1987.0    16\n",
       "8            1988.0    15\n",
       "9            1989.0    17\n",
       "10           1990.0    16\n",
       "11           1991.0    41\n",
       "12           1992.0    43\n",
       "13           1993.0    60\n",
       "14           1994.0   120\n",
       "15           1995.0   219\n",
       "16           1996.0   263\n",
       "17           1997.0   289\n",
       "18           1998.0   379\n",
       "19           1999.0   338\n",
       "20           2000.0   350\n",
       "21           2001.0   482\n",
       "22           2002.0   828\n",
       "23           2003.0   775\n",
       "24           2004.0   761\n",
       "25           2005.0   939\n",
       "26           2006.0  1006\n",
       "27           2007.0  1197\n",
       "28           2008.0  1427\n",
       "29           2009.0  1426\n",
       "30           2010.0  1256\n",
       "31           2011.0  1136\n",
       "32           2012.0   653\n",
       "33           2013.0   544\n",
       "34           2014.0   579\n",
       "35           2015.0   606\n",
       "36           2016.0   502"
      ]
     },
     "execution_count": 26,
     "metadata": {},
     "output_type": "execute_result"
    }
   ],
   "source": [
    "data.groupby('year_of_release')['name'].count().to_frame().reset_index()"
   ]
  },
  {
   "cell_type": "code",
   "execution_count": 27,
   "metadata": {
    "scrolled": true
   },
   "outputs": [
    {
     "data": {
      "image/png": "[encoded data removed]",
      "text/plain": [
       "<Figure size 1368x432 with 1 Axes>"
      ]
     },
     "metadata": {
      "needs_background": "light"
     },
     "output_type": "display_data"
    }
   ],
   "source": [
    "pass_value_barh(data) #Итоговый контроль"
   ]
  },
  {
   "cell_type": "markdown",
   "metadata": {},
   "source": [
    "<a id='section_2_3'></a>\n",
    "## 2.3 Изменение типов данных"
   ]
  },
  {
   "cell_type": "markdown",
   "metadata": {},
   "source": [
    "Сменить **тип**, исходя из содержания данных, на более соответствующий:\n",
    "- `year_of_release` - содержит дату издания игры, чему соответствует тип `datetime`, но если учесть, что из даты указан только год, то можно использовать тип `int`. Это позволит избедать безсмысленного повторения _1ого января_ в каждой строке.\n",
    "- `critic_score` - содержат оценки по 100 больной шкале, т.е. только целочисленные значения `int`;\n",
    "- `user_score` - содержит оценки по 10-ти бальной шкале, т.е. десятичные дробные значений `float`."
   ]
  },
  {
   "cell_type": "code",
   "execution_count": 28,
   "metadata": {},
   "outputs": [
    {
     "name": "stdout",
     "output_type": "stream",
     "text": [
      "<class 'pandas.core.frame.DataFrame'>\n",
      "Int64Index: 16708 entries, 0 to 16712\n",
      "Data columns (total 11 columns):\n",
      " #   Column           Non-Null Count  Dtype  \n",
      "---  ------           --------------  -----  \n",
      " 0   name             16708 non-null  object \n",
      " 1   platform         16708 non-null  object \n",
      " 2   year_of_release  16439 non-null  Int64  \n",
      " 3   genre            16708 non-null  object \n",
      " 4   na_sales         16708 non-null  float64\n",
      " 5   eu_sales         16708 non-null  float64\n",
      " 6   jp_sales         16708 non-null  float64\n",
      " 7   other_sales      16708 non-null  float64\n",
      " 8   critic_score     8137 non-null   Int64  \n",
      " 9   user_score       10014 non-null  object \n",
      " 10  rating           9949 non-null   object \n",
      "dtypes: Int64(2), float64(4), object(5)\n",
      "memory usage: 1.6+ MB\n"
     ]
    }
   ],
   "source": [
    "#data['year_of_release'] =  pd.to_datetime(data['year_of_release'], format='%Y')\n",
    "#data['user_score'] = data['user_score'].astype('float') #нет возможности пока присутствуют оценки 'tbd'\n",
    "for col in ['critic_score', 'year_of_release']:\n",
    "    data[col] = data[col].astype('Int64')\n",
    "\n",
    "data.info() #Контроль типов данных"
   ]
  },
  {
   "cell_type": "markdown",
   "metadata": {},
   "source": [
    "<a id='section_2_2'></a>\n",
    "## 2.4 Дополнительной подсчёт"
   ]
  },
  {
   "cell_type": "markdown",
   "metadata": {},
   "source": [
    "Cуммарные продажи во всех регионах в отдельном столбце."
   ]
  },
  {
   "cell_type": "code",
   "execution_count": 29,
   "metadata": {},
   "outputs": [
    {
     "data": {
      "text/html": [
       "<div>\n",
       "<style scoped>\n",
       "    .dataframe tbody tr th:only-of-type {\n",
       "        vertical-align: middle;\n",
       "    }\n",
       "\n",
       "    .dataframe tbody tr th {\n",
       "        vertical-align: top;\n",
       "    }\n",
       "\n",
       "    .dataframe thead th {\n",
       "        text-align: right;\n",
       "    }\n",
       "</style>\n",
       "<table border=\"1\" class=\"dataframe\">\n",
       "  <thead>\n",
       "    <tr style=\"text-align: right;\">\n",
       "      <th></th>\n",
       "      <th>name</th>\n",
       "      <th>platform</th>\n",
       "      <th>year_of_release</th>\n",
       "      <th>genre</th>\n",
       "      <th>na_sales</th>\n",
       "      <th>eu_sales</th>\n",
       "      <th>jp_sales</th>\n",
       "      <th>other_sales</th>\n",
       "      <th>critic_score</th>\n",
       "      <th>user_score</th>\n",
       "      <th>rating</th>\n",
       "      <th>all_sales</th>\n",
       "    </tr>\n",
       "  </thead>\n",
       "  <tbody>\n",
       "    <tr>\n",
       "      <th>0</th>\n",
       "      <td>Wii Sports</td>\n",
       "      <td>Wii</td>\n",
       "      <td>2006</td>\n",
       "      <td>Sports</td>\n",
       "      <td>41.36</td>\n",
       "      <td>28.96</td>\n",
       "      <td>3.77</td>\n",
       "      <td>8.45</td>\n",
       "      <td>76</td>\n",
       "      <td>8</td>\n",
       "      <td>E</td>\n",
       "      <td>82.54</td>\n",
       "    </tr>\n",
       "    <tr>\n",
       "      <th>1</th>\n",
       "      <td>Super Mario Bros.</td>\n",
       "      <td>NES</td>\n",
       "      <td>1985</td>\n",
       "      <td>Platform</td>\n",
       "      <td>29.08</td>\n",
       "      <td>3.58</td>\n",
       "      <td>6.81</td>\n",
       "      <td>0.77</td>\n",
       "      <td>&lt;NA&gt;</td>\n",
       "      <td>NaN</td>\n",
       "      <td>NaN</td>\n",
       "      <td>40.24</td>\n",
       "    </tr>\n",
       "    <tr>\n",
       "      <th>2</th>\n",
       "      <td>Mario Kart Wii</td>\n",
       "      <td>Wii</td>\n",
       "      <td>2008</td>\n",
       "      <td>Racing</td>\n",
       "      <td>15.68</td>\n",
       "      <td>12.76</td>\n",
       "      <td>3.79</td>\n",
       "      <td>3.29</td>\n",
       "      <td>82</td>\n",
       "      <td>8.3</td>\n",
       "      <td>E</td>\n",
       "      <td>35.52</td>\n",
       "    </tr>\n",
       "    <tr>\n",
       "      <th>3</th>\n",
       "      <td>Wii Sports Resort</td>\n",
       "      <td>Wii</td>\n",
       "      <td>2009</td>\n",
       "      <td>Sports</td>\n",
       "      <td>15.61</td>\n",
       "      <td>10.93</td>\n",
       "      <td>3.28</td>\n",
       "      <td>2.95</td>\n",
       "      <td>80</td>\n",
       "      <td>8</td>\n",
       "      <td>E</td>\n",
       "      <td>32.77</td>\n",
       "    </tr>\n",
       "    <tr>\n",
       "      <th>4</th>\n",
       "      <td>Pokemon Red/Pokemon Blue</td>\n",
       "      <td>GB</td>\n",
       "      <td>1996</td>\n",
       "      <td>Role-Playing</td>\n",
       "      <td>11.27</td>\n",
       "      <td>8.89</td>\n",
       "      <td>10.22</td>\n",
       "      <td>1.00</td>\n",
       "      <td>&lt;NA&gt;</td>\n",
       "      <td>NaN</td>\n",
       "      <td>NaN</td>\n",
       "      <td>31.38</td>\n",
       "    </tr>\n",
       "  </tbody>\n",
       "</table>\n",
       "</div>"
      ],
      "text/plain": [
       "                       name platform  year_of_release         genre  na_sales  \\\n",
       "0                Wii Sports      Wii             2006        Sports     41.36   \n",
       "1         Super Mario Bros.      NES             1985      Platform     29.08   \n",
       "2            Mario Kart Wii      Wii             2008        Racing     15.68   \n",
       "3         Wii Sports Resort      Wii             2009        Sports     15.61   \n",
       "4  Pokemon Red/Pokemon Blue       GB             1996  Role-Playing     11.27   \n",
       "\n",
       "   eu_sales  jp_sales  other_sales  critic_score user_score rating  all_sales  \n",
       "0     28.96      3.77         8.45            76          8      E      82.54  \n",
       "1      3.58      6.81         0.77          <NA>        NaN    NaN      40.24  \n",
       "2     12.76      3.79         3.29            82        8.3      E      35.52  \n",
       "3     10.93      3.28         2.95            80          8      E      32.77  \n",
       "4      8.89     10.22         1.00          <NA>        NaN    NaN      31.38  "
      ]
     },
     "metadata": {},
     "output_type": "display_data"
    }
   ],
   "source": [
    "data['all_sales'] = data[['na_sales', 'eu_sales', 'jp_sales', 'other_sales']].sum(axis=1)\n",
    "display(data.head())"
   ]
  },
  {
   "cell_type": "markdown",
   "metadata": {},
   "source": [
    "<a id='section_3'></a> \n",
    "# 3. Исследовательский анализ данных"
   ]
  },
  {
   "cell_type": "markdown",
   "metadata": {},
   "source": [
    "В этом разделе поочерёдно разбирается ряд обязательных вопросо, сформулированных площадкой \"Яндекс Практикум\"."
   ]
  },
  {
   "cell_type": "markdown",
   "metadata": {},
   "source": [
    "## 3.1. Посмотрите, сколько игр выпускалось в разные годы. Важны ли данные за все периоды?"
   ]
  },
  {
   "cell_type": "code",
   "execution_count": 30,
   "metadata": {
    "scrolled": false
   },
   "outputs": [
    {
     "data": {
      "image/png": "[encoded data removed]",
      "text/plain": [
       "<Figure size 1080x504 with 1 Axes>"
      ]
     },
     "metadata": {
      "needs_background": "light"
     },
     "output_type": "display_data"
    }
   ],
   "source": [
    "games_per_year = data.groupby('year_of_release')['name'].count().to_frame().reset_index()\n",
    "games_per_year.plot(style='o-', x='year_of_release', y='name', grid=True, legend=False, figsize=(15,7),\n",
    "                    title='Распределение изданных игр в период 1980 - 2016г.',\n",
    "                    xlabel='Год публикации игры, шт.', ylabel='Кол-во изданных игр')\n",
    "plt.show()"
   ]
  },
  {
   "cell_type": "markdown",
   "metadata": {},
   "source": [
    "Из всего периода стоит взять отрезок **2013-2016**г. (ориентировочно 3,5 года). Он содержит наиболее актуальные данные, которые **близко** расположены к прогнозируемому 2017 году. Помимо этого, каждый год из этого отрезка имеет практически **одинаковую выборку** по играм, что позволит их сравнивать между собой.\n",
    "\n",
    "Остальные данные (игры, платформы, жанры) притерпели **значительные изменения** с 80-ых годов до текушего времени. За этот период изменилась аудитория, технические возможности платформ, а также игровые жанры.\n",
    "\n",
    "*Примечание:* в исходных данных значения за 2016 год представлены частично, а не за всю его продолжительность. По этой причине число продаж за этот год заметно ниже, чем за предыдущие."
   ]
  },
  {
   "cell_type": "markdown",
   "metadata": {},
   "source": [
    "## 3.2. Посмотрите, как менялись продажи по платформам. Выберите платформы с наибольшими суммарными продажами и постройте распределение по годам. За какой характерный срок появляются новые и исчезают старые платформы?"
   ]
  },
  {
   "cell_type": "markdown",
   "metadata": {},
   "source": [
    "Чтобы ответить на 1ый вопрос я постарался реализовать \"Bar Chart Race\". Это анимированный график, отлично показывающий динамические изменения во времени, но у меня не получилось его реализовать."
   ]
  },
  {
   "cell_type": "code",
   "execution_count": 31,
   "metadata": {
    "scrolled": false
   },
   "outputs": [
    {
     "data": {
      "image/png": "[encoded data removed]",
      "text/plain": [
       "<Figure size 1152x504 with 1 Axes>"
      ]
     },
     "metadata": {},
     "output_type": "display_data"
    }
   ],
   "source": [
    "all_sales_platform = data.groupby('platform')['all_sales'].sum().sort_values(ascending=False).to_frame().reset_index()\n",
    "#display(all_sales_platform)\n",
    "\n",
    "sns.set_theme(style=\"whitegrid\")\n",
    "sns.set(rc = {'figure.figsize':(16,7)})\n",
    "sns.barplot(data=all_sales_platform, x='platform', y='all_sales')\n",
    "plt.title('Рейтинг платформ по количеству продаж')\n",
    "plt.ylabel('Кол-во проданных игр, млн. копий')\n",
    "plt.xlabel('Игровые платформы');"
   ]
  },
  {
   "cell_type": "markdown",
   "metadata": {},
   "source": [
    "Явным лидером является **Play Station 2** (PS2), и помимо неё отчётливо выделяется **ещё 5** платформ (_в порядке убывания числа продаж_):\n",
    "- XBox 360 (X360),\n",
    "- Playstation 3 (PS3),\n",
    "- Nintendo Wii (Wii),\n",
    "- Nintendo DS (DS),\n",
    "- Playstation 1 (PS).\n",
    "\n",
    "Остальные платформы удобней рассмотреть отдельно на _тепловой диаграмме_:"
   ]
  },
  {
   "cell_type": "code",
   "execution_count": 32,
   "metadata": {},
   "outputs": [
    {
     "data": {
      "image/png": "[encoded data removed]",
      "text/plain": [
       "<Figure size 1152x504 with 2 Axes>"
      ]
     },
     "metadata": {},
     "output_type": "display_data"
    }
   ],
   "source": [
    "data_without_top_5 = data.loc[~data['platform'].isin(all_sales_platform.loc[0:5,'platform'].values),\n",
    "                              ['platform', 'year_of_release', 'all_sales']]\n",
    "sales_of_platforms = data_without_top_5.pivot_table(index='year_of_release',\n",
    "                                                    columns='platform',\n",
    "                                                    values='all_sales', \n",
    "                                                    aggfunc='sum')\n",
    "\n",
    "#Изменить порядок столбцов, для визуального упращения. Два рабочих способа:\n",
    "# 1)Ручной подбор\n",
    "#sales_of_platforms = sales_of_platforms.reindex(columns=['2600', 'NES', 'GB', 'SNES', 'GEN', 'GG',  'SCD', 'NG', '3DO', 'TG16',\n",
    "#                                                         'SAT', 'PCFX', 'N64', 'WS', 'DC', 'GBA', 'GC', 'XB', \n",
    "#                                                         'PSP', 'PC', 'PSV', '3DS', 'WiiU', 'XOne', 'PS4'])\n",
    "# 2)Автоматический. Он появился позже, потому что не сразу понял как его реализовать.\n",
    "sales_of_platforms = sales_of_platforms.reindex(\n",
    "    columns=data_without_top_5.groupby('platform')\\\n",
    "    ['year_of_release'].mean().sort_values().to_frame().reset_index()['platform'].unique())\n",
    "\n",
    "sns.heatmap(sales_of_platforms, square=False, linewidth=.01, linecolor='grey')\n",
    "plt.title('Рейтинг платформ \"2ой очереди\". Кол-во проданных игр, млн. копий')\n",
    "plt.xlabel('Игровые платформы')\n",
    "plt.ylabel('Год релиза игры');"
   ]
  },
  {
   "cell_type": "markdown",
   "metadata": {},
   "source": [
    "В 80-ых годы существовал \"дефицит\" игровых платформ, что положило начало долгому и успешному существованию Nintendo Entertainment System (NES) и Game Boy (GB), в след за которыми стали появляться новые игровые жанры, и более совершенные платформы."
   ]
  },
  {
   "cell_type": "code",
   "execution_count": 33,
   "metadata": {
    "scrolled": false
   },
   "outputs": [
    {
     "data": {
      "image/png": "[encoded data removed]",
      "text/plain": [
       "<Figure size 1080x504 with 1 Axes>"
      ]
     },
     "metadata": {},
     "output_type": "display_data"
    }
   ],
   "source": [
    "actual_platforms = data.loc[data['year_of_release'] == 2016, 'platform'].unique() #список актуальных платформ\n",
    "\n",
    "platform_lives = data.loc[~data['year_of_release'].isna(), ['platform', 'year_of_release']]\n",
    "platform_lives = platform_lives[~platform_lives['platform'].isin(actual_platforms)] #Исключение актуальных платформ\n",
    "platform_lives = platform_lives.groupby('platform')['year_of_release'].unique().to_frame().reset_index()\n",
    "platform_lives['years_of_live'] = 0\n",
    "for i in range(platform_lives.shape[0]):\n",
    "    platform_lives.loc[i, 'years_of_live'] = len(platform_lives.loc[i, 'year_of_release'])\n",
    "platform_lives = platform_lives.sort_values(by='years_of_live')\n",
    "\n",
    "#display(platform_lives[['platform', 'years_of_live']])\n",
    "#plt.boxplot(platform_lives['years_of_live'])\n",
    "platform_lives['years_of_live'].plot(kind='hist', bins=26, grid=True, legend=False, figsize=(15,7), range=(0.25, 13.25),\n",
    "                    title='Жизненные циклы игровых платформ (выпуск новых игр был прекращён)',\n",
    "                    xlabel='Жизненный цикл, лет/год', ylabel='Кол-во платформ');"
   ]
  },
  {
   "cell_type": "markdown",
   "metadata": {},
   "source": [
    "В среднем платформы живут 7-10 лет. Если платформе удаётся просуществовать первые 2 года - то появляется её шансы на существования значительно увеличиваются.\n",
    "\n",
    "На этом этапе была обнаружена **аномалия** для NINTENDO DS: \"Возможно присутствуют выбросы за 1985 год, т.к. основной объём этих игр сконцентрирован за период 2004-2013 года\". О ней шла речь на этапе предобработки."
   ]
  },
  {
   "cell_type": "markdown",
   "metadata": {},
   "source": [
    "## 3.3. Возьмите данные за соответствующий актуальный период. Актуальный период определите самостоятельно в результате исследования предыдущих вопросов. Основной фактор — эти данные помогут построить прогноз на 2017 год."
   ]
  },
  {
   "cell_type": "markdown",
   "metadata": {},
   "source": [
    "В текущее время частота появления новых игра, едва ли, не выходит на первое месте, нежели частота появление новых платформ. Учитывая предыдущие результаты актуальным периодом будут считаться последние ~3.5 года, начитаная с 2013 года. В этот период попадает год выхода новых приставок Хbox One и Playstation 4, от двух крупных конкурентов. Каждый год в этом периоде имеет сравнительно одинаковое количество выпущенных игр, что позваляет проводить сравнение в динамике."
   ]
  },
  {
   "cell_type": "code",
   "execution_count": 34,
   "metadata": {},
   "outputs": [
    {
     "data": {
      "text/html": [
       "<div>\n",
       "<style scoped>\n",
       "    .dataframe tbody tr th:only-of-type {\n",
       "        vertical-align: middle;\n",
       "    }\n",
       "\n",
       "    .dataframe tbody tr th {\n",
       "        vertical-align: top;\n",
       "    }\n",
       "\n",
       "    .dataframe thead th {\n",
       "        text-align: right;\n",
       "    }\n",
       "</style>\n",
       "<table border=\"1\" class=\"dataframe\">\n",
       "  <thead>\n",
       "    <tr style=\"text-align: right;\">\n",
       "      <th></th>\n",
       "      <th>name</th>\n",
       "      <th>platform</th>\n",
       "      <th>year_of_release</th>\n",
       "      <th>genre</th>\n",
       "      <th>na_sales</th>\n",
       "      <th>eu_sales</th>\n",
       "      <th>jp_sales</th>\n",
       "      <th>other_sales</th>\n",
       "      <th>critic_score</th>\n",
       "      <th>user_score</th>\n",
       "      <th>rating</th>\n",
       "      <th>all_sales</th>\n",
       "    </tr>\n",
       "  </thead>\n",
       "  <tbody>\n",
       "    <tr>\n",
       "      <th>16</th>\n",
       "      <td>Grand Theft Auto V</td>\n",
       "      <td>PS3</td>\n",
       "      <td>2013</td>\n",
       "      <td>Action</td>\n",
       "      <td>7.02</td>\n",
       "      <td>9.09</td>\n",
       "      <td>0.98</td>\n",
       "      <td>3.96</td>\n",
       "      <td>97</td>\n",
       "      <td>8.2</td>\n",
       "      <td>M</td>\n",
       "      <td>21.05</td>\n",
       "    </tr>\n",
       "    <tr>\n",
       "      <th>23</th>\n",
       "      <td>Grand Theft Auto V</td>\n",
       "      <td>X360</td>\n",
       "      <td>2013</td>\n",
       "      <td>Action</td>\n",
       "      <td>9.66</td>\n",
       "      <td>5.14</td>\n",
       "      <td>0.06</td>\n",
       "      <td>1.41</td>\n",
       "      <td>97</td>\n",
       "      <td>8.1</td>\n",
       "      <td>M</td>\n",
       "      <td>16.27</td>\n",
       "    </tr>\n",
       "    <tr>\n",
       "      <th>31</th>\n",
       "      <td>Call of Duty: Black Ops 3</td>\n",
       "      <td>PS4</td>\n",
       "      <td>2015</td>\n",
       "      <td>Shooter</td>\n",
       "      <td>6.03</td>\n",
       "      <td>5.86</td>\n",
       "      <td>0.36</td>\n",
       "      <td>2.38</td>\n",
       "      <td>&lt;NA&gt;</td>\n",
       "      <td>NaN</td>\n",
       "      <td>NaN</td>\n",
       "      <td>14.63</td>\n",
       "    </tr>\n",
       "    <tr>\n",
       "      <th>33</th>\n",
       "      <td>Pokemon X/Pokemon Y</td>\n",
       "      <td>3DS</td>\n",
       "      <td>2013</td>\n",
       "      <td>Role-Playing</td>\n",
       "      <td>5.28</td>\n",
       "      <td>4.19</td>\n",
       "      <td>4.35</td>\n",
       "      <td>0.78</td>\n",
       "      <td>&lt;NA&gt;</td>\n",
       "      <td>NaN</td>\n",
       "      <td>NaN</td>\n",
       "      <td>14.60</td>\n",
       "    </tr>\n",
       "    <tr>\n",
       "      <th>42</th>\n",
       "      <td>Grand Theft Auto V</td>\n",
       "      <td>PS4</td>\n",
       "      <td>2014</td>\n",
       "      <td>Action</td>\n",
       "      <td>3.96</td>\n",
       "      <td>6.31</td>\n",
       "      <td>0.38</td>\n",
       "      <td>1.97</td>\n",
       "      <td>97</td>\n",
       "      <td>8.3</td>\n",
       "      <td>M</td>\n",
       "      <td>12.62</td>\n",
       "    </tr>\n",
       "    <tr>\n",
       "      <th>...</th>\n",
       "      <td>...</td>\n",
       "      <td>...</td>\n",
       "      <td>...</td>\n",
       "      <td>...</td>\n",
       "      <td>...</td>\n",
       "      <td>...</td>\n",
       "      <td>...</td>\n",
       "      <td>...</td>\n",
       "      <td>...</td>\n",
       "      <td>...</td>\n",
       "      <td>...</td>\n",
       "      <td>...</td>\n",
       "    </tr>\n",
       "    <tr>\n",
       "      <th>16701</th>\n",
       "      <td>Strawberry Nauts</td>\n",
       "      <td>PSV</td>\n",
       "      <td>2016</td>\n",
       "      <td>Adventure</td>\n",
       "      <td>0.00</td>\n",
       "      <td>0.00</td>\n",
       "      <td>0.01</td>\n",
       "      <td>0.00</td>\n",
       "      <td>&lt;NA&gt;</td>\n",
       "      <td>NaN</td>\n",
       "      <td>NaN</td>\n",
       "      <td>0.01</td>\n",
       "    </tr>\n",
       "    <tr>\n",
       "      <th>16705</th>\n",
       "      <td>Aiyoku no Eustia</td>\n",
       "      <td>PSV</td>\n",
       "      <td>2014</td>\n",
       "      <td>Misc</td>\n",
       "      <td>0.00</td>\n",
       "      <td>0.00</td>\n",
       "      <td>0.01</td>\n",
       "      <td>0.00</td>\n",
       "      <td>&lt;NA&gt;</td>\n",
       "      <td>NaN</td>\n",
       "      <td>NaN</td>\n",
       "      <td>0.01</td>\n",
       "    </tr>\n",
       "    <tr>\n",
       "      <th>16708</th>\n",
       "      <td>Samurai Warriors: Sanada Maru</td>\n",
       "      <td>PS3</td>\n",
       "      <td>2016</td>\n",
       "      <td>Action</td>\n",
       "      <td>0.00</td>\n",
       "      <td>0.00</td>\n",
       "      <td>0.01</td>\n",
       "      <td>0.00</td>\n",
       "      <td>&lt;NA&gt;</td>\n",
       "      <td>NaN</td>\n",
       "      <td>NaN</td>\n",
       "      <td>0.01</td>\n",
       "    </tr>\n",
       "    <tr>\n",
       "      <th>16710</th>\n",
       "      <td>Haitaka no Psychedelica</td>\n",
       "      <td>PSV</td>\n",
       "      <td>2016</td>\n",
       "      <td>Adventure</td>\n",
       "      <td>0.00</td>\n",
       "      <td>0.00</td>\n",
       "      <td>0.01</td>\n",
       "      <td>0.00</td>\n",
       "      <td>&lt;NA&gt;</td>\n",
       "      <td>NaN</td>\n",
       "      <td>NaN</td>\n",
       "      <td>0.01</td>\n",
       "    </tr>\n",
       "    <tr>\n",
       "      <th>16712</th>\n",
       "      <td>Winning Post 8 2016</td>\n",
       "      <td>PSV</td>\n",
       "      <td>2016</td>\n",
       "      <td>Simulation</td>\n",
       "      <td>0.00</td>\n",
       "      <td>0.00</td>\n",
       "      <td>0.01</td>\n",
       "      <td>0.00</td>\n",
       "      <td>&lt;NA&gt;</td>\n",
       "      <td>NaN</td>\n",
       "      <td>NaN</td>\n",
       "      <td>0.01</td>\n",
       "    </tr>\n",
       "  </tbody>\n",
       "</table>\n",
       "<p>2231 rows × 12 columns</p>\n",
       "</div>"
      ],
      "text/plain": [
       "                                name platform  year_of_release         genre  \\\n",
       "16                Grand Theft Auto V      PS3             2013        Action   \n",
       "23                Grand Theft Auto V     X360             2013        Action   \n",
       "31         Call of Duty: Black Ops 3      PS4             2015       Shooter   \n",
       "33               Pokemon X/Pokemon Y      3DS             2013  Role-Playing   \n",
       "42                Grand Theft Auto V      PS4             2014        Action   \n",
       "...                              ...      ...              ...           ...   \n",
       "16701               Strawberry Nauts      PSV             2016     Adventure   \n",
       "16705               Aiyoku no Eustia      PSV             2014          Misc   \n",
       "16708  Samurai Warriors: Sanada Maru      PS3             2016        Action   \n",
       "16710        Haitaka no Psychedelica      PSV             2016     Adventure   \n",
       "16712            Winning Post 8 2016      PSV             2016    Simulation   \n",
       "\n",
       "       na_sales  eu_sales  jp_sales  other_sales  critic_score user_score  \\\n",
       "16         7.02      9.09      0.98         3.96            97        8.2   \n",
       "23         9.66      5.14      0.06         1.41            97        8.1   \n",
       "31         6.03      5.86      0.36         2.38          <NA>        NaN   \n",
       "33         5.28      4.19      4.35         0.78          <NA>        NaN   \n",
       "42         3.96      6.31      0.38         1.97            97        8.3   \n",
       "...         ...       ...       ...          ...           ...        ...   \n",
       "16701      0.00      0.00      0.01         0.00          <NA>        NaN   \n",
       "16705      0.00      0.00      0.01         0.00          <NA>        NaN   \n",
       "16708      0.00      0.00      0.01         0.00          <NA>        NaN   \n",
       "16710      0.00      0.00      0.01         0.00          <NA>        NaN   \n",
       "16712      0.00      0.00      0.01         0.00          <NA>        NaN   \n",
       "\n",
       "      rating  all_sales  \n",
       "16         M      21.05  \n",
       "23         M      16.27  \n",
       "31       NaN      14.63  \n",
       "33       NaN      14.60  \n",
       "42         M      12.62  \n",
       "...      ...        ...  \n",
       "16701    NaN       0.01  \n",
       "16705    NaN       0.01  \n",
       "16708    NaN       0.01  \n",
       "16710    NaN       0.01  \n",
       "16712    NaN       0.01  \n",
       "\n",
       "[2231 rows x 12 columns]"
      ]
     },
     "metadata": {},
     "output_type": "display_data"
    }
   ],
   "source": [
    "actual_data = data[data['year_of_release'] >= 2013]\n",
    "display(actual_data)"
   ]
  },
  {
   "cell_type": "markdown",
   "metadata": {},
   "source": [
    "## 3.4. Какие платформы лидируют по продажам, растут или падают? Выберите несколько потенциально прибыльных платформ."
   ]
  },
  {
   "cell_type": "code",
   "execution_count": 35,
   "metadata": {
    "scrolled": false
   },
   "outputs": [
    {
     "data": {
      "image/png": "[encoded data removed]",
      "text/plain": [
       "<Figure size 1152x504 with 2 Axes>"
      ]
     },
     "metadata": {},
     "output_type": "display_data"
    }
   ],
   "source": [
    "sales_of_actual_platforms = actual_data.pivot_table(index='year_of_release',\n",
    "                                                    columns='platform',\n",
    "                                                    values='all_sales',\n",
    "                                                    aggfunc='sum')\n",
    "\n",
    "#Изменить порядок столбцов, для визуального упращения\n",
    "sales_of_actual_platforms = sales_of_actual_platforms.reindex(columns = actual_data.groupby('platform')\\\n",
    "    ['all_sales'].sum().sort_values().to_frame().reset_index()['platform'].unique())\n",
    "\n",
    "sns.heatmap(sales_of_actual_platforms, square=True, annot=True, fmt=\".2f\", linewidth=.01, linecolor='grey')\n",
    "plt.title('Рейтинг платформ \"2ой очереди\". Кол-во проданных игр, млн. копий')\n",
    "plt.xlabel('Игровые платформы')\n",
    "plt.ylabel('Год релиза игры');"
   ]
  },
  {
   "cell_type": "markdown",
   "metadata": {},
   "source": [
    "Среди лидеров две пары доманих консолей: `Xbox One` и её предшественник `Xbox 360`, а так же `Playstation 3 и 4`. В этот список попала портативная игровая консоль `3DS` от Nintendo, которая является последователем `Nintendo DS`, закончившая выпуск новых игр в 2013 году. Среди этих пар видем переходный процесс: продажи старой платформы - падают, а новых - возростают. "
   ]
  },
  {
   "cell_type": "markdown",
   "metadata": {},
   "source": [
    "## 3.5. Постройте график «ящик с усами» по глобальным продажам игр в разбивке по платформам. Опишите результат."
   ]
  },
  {
   "cell_type": "code",
   "execution_count": 36,
   "metadata": {
    "scrolled": false
   },
   "outputs": [
    {
     "data": {
      "text/html": [
       "<div>\n",
       "<style scoped>\n",
       "    .dataframe tbody tr th:only-of-type {\n",
       "        vertical-align: middle;\n",
       "    }\n",
       "\n",
       "    .dataframe tbody tr th {\n",
       "        vertical-align: top;\n",
       "    }\n",
       "\n",
       "    .dataframe thead th {\n",
       "        text-align: right;\n",
       "    }\n",
       "</style>\n",
       "<table border=\"1\" class=\"dataframe\">\n",
       "  <thead>\n",
       "    <tr style=\"text-align: right;\">\n",
       "      <th></th>\n",
       "      <th>name</th>\n",
       "      <th>platform</th>\n",
       "      <th>year_of_release</th>\n",
       "      <th>genre</th>\n",
       "      <th>na_sales</th>\n",
       "      <th>eu_sales</th>\n",
       "      <th>jp_sales</th>\n",
       "      <th>other_sales</th>\n",
       "      <th>critic_score</th>\n",
       "      <th>user_score</th>\n",
       "      <th>rating</th>\n",
       "      <th>all_sales</th>\n",
       "    </tr>\n",
       "  </thead>\n",
       "  <tbody>\n",
       "    <tr>\n",
       "      <th>16</th>\n",
       "      <td>Grand Theft Auto V</td>\n",
       "      <td>PS3</td>\n",
       "      <td>2013</td>\n",
       "      <td>Action</td>\n",
       "      <td>7.02</td>\n",
       "      <td>9.09</td>\n",
       "      <td>0.98</td>\n",
       "      <td>3.96</td>\n",
       "      <td>97</td>\n",
       "      <td>8.2</td>\n",
       "      <td>M</td>\n",
       "      <td>21.05</td>\n",
       "    </tr>\n",
       "    <tr>\n",
       "      <th>23</th>\n",
       "      <td>Grand Theft Auto V</td>\n",
       "      <td>X360</td>\n",
       "      <td>2013</td>\n",
       "      <td>Action</td>\n",
       "      <td>9.66</td>\n",
       "      <td>5.14</td>\n",
       "      <td>0.06</td>\n",
       "      <td>1.41</td>\n",
       "      <td>97</td>\n",
       "      <td>8.1</td>\n",
       "      <td>M</td>\n",
       "      <td>16.27</td>\n",
       "    </tr>\n",
       "    <tr>\n",
       "      <th>31</th>\n",
       "      <td>Call of Duty: Black Ops 3</td>\n",
       "      <td>PS4</td>\n",
       "      <td>2015</td>\n",
       "      <td>Shooter</td>\n",
       "      <td>6.03</td>\n",
       "      <td>5.86</td>\n",
       "      <td>0.36</td>\n",
       "      <td>2.38</td>\n",
       "      <td>&lt;NA&gt;</td>\n",
       "      <td>NaN</td>\n",
       "      <td>NaN</td>\n",
       "      <td>14.63</td>\n",
       "    </tr>\n",
       "    <tr>\n",
       "      <th>33</th>\n",
       "      <td>Pokemon X/Pokemon Y</td>\n",
       "      <td>3DS</td>\n",
       "      <td>2013</td>\n",
       "      <td>Role-Playing</td>\n",
       "      <td>5.28</td>\n",
       "      <td>4.19</td>\n",
       "      <td>4.35</td>\n",
       "      <td>0.78</td>\n",
       "      <td>&lt;NA&gt;</td>\n",
       "      <td>NaN</td>\n",
       "      <td>NaN</td>\n",
       "      <td>14.60</td>\n",
       "    </tr>\n",
       "    <tr>\n",
       "      <th>42</th>\n",
       "      <td>Grand Theft Auto V</td>\n",
       "      <td>PS4</td>\n",
       "      <td>2014</td>\n",
       "      <td>Action</td>\n",
       "      <td>3.96</td>\n",
       "      <td>6.31</td>\n",
       "      <td>0.38</td>\n",
       "      <td>1.97</td>\n",
       "      <td>97</td>\n",
       "      <td>8.3</td>\n",
       "      <td>M</td>\n",
       "      <td>12.62</td>\n",
       "    </tr>\n",
       "    <tr>\n",
       "      <th>...</th>\n",
       "      <td>...</td>\n",
       "      <td>...</td>\n",
       "      <td>...</td>\n",
       "      <td>...</td>\n",
       "      <td>...</td>\n",
       "      <td>...</td>\n",
       "      <td>...</td>\n",
       "      <td>...</td>\n",
       "      <td>...</td>\n",
       "      <td>...</td>\n",
       "      <td>...</td>\n",
       "      <td>...</td>\n",
       "    </tr>\n",
       "    <tr>\n",
       "      <th>813</th>\n",
       "      <td>DriveClub</td>\n",
       "      <td>PS4</td>\n",
       "      <td>2014</td>\n",
       "      <td>Racing</td>\n",
       "      <td>0.36</td>\n",
       "      <td>1.38</td>\n",
       "      <td>0.02</td>\n",
       "      <td>0.31</td>\n",
       "      <td>71</td>\n",
       "      <td>6.1</td>\n",
       "      <td>E</td>\n",
       "      <td>2.07</td>\n",
       "    </tr>\n",
       "    <tr>\n",
       "      <th>828</th>\n",
       "      <td>Madden NFL 15</td>\n",
       "      <td>X360</td>\n",
       "      <td>2014</td>\n",
       "      <td>Sports</td>\n",
       "      <td>1.77</td>\n",
       "      <td>0.06</td>\n",
       "      <td>0.00</td>\n",
       "      <td>0.22</td>\n",
       "      <td>&lt;NA&gt;</td>\n",
       "      <td>5.5</td>\n",
       "      <td>E</td>\n",
       "      <td>2.05</td>\n",
       "    </tr>\n",
       "    <tr>\n",
       "      <th>846</th>\n",
       "      <td>Battlefield 4</td>\n",
       "      <td>XOne</td>\n",
       "      <td>2013</td>\n",
       "      <td>Shooter</td>\n",
       "      <td>1.25</td>\n",
       "      <td>0.58</td>\n",
       "      <td>0.00</td>\n",
       "      <td>0.19</td>\n",
       "      <td>81</td>\n",
       "      <td>6.6</td>\n",
       "      <td>M</td>\n",
       "      <td>2.02</td>\n",
       "    </tr>\n",
       "    <tr>\n",
       "      <th>849</th>\n",
       "      <td>Just Dance 2015</td>\n",
       "      <td>Wii</td>\n",
       "      <td>2014</td>\n",
       "      <td>Misc</td>\n",
       "      <td>0.99</td>\n",
       "      <td>0.85</td>\n",
       "      <td>0.00</td>\n",
       "      <td>0.17</td>\n",
       "      <td>&lt;NA&gt;</td>\n",
       "      <td>8.4</td>\n",
       "      <td>E10+</td>\n",
       "      <td>2.01</td>\n",
       "    </tr>\n",
       "    <tr>\n",
       "      <th>850</th>\n",
       "      <td>Dragon Age: Inquisition</td>\n",
       "      <td>PS4</td>\n",
       "      <td>2014</td>\n",
       "      <td>Role-Playing</td>\n",
       "      <td>0.73</td>\n",
       "      <td>0.88</td>\n",
       "      <td>0.08</td>\n",
       "      <td>0.32</td>\n",
       "      <td>89</td>\n",
       "      <td>7.4</td>\n",
       "      <td>M</td>\n",
       "      <td>2.01</td>\n",
       "    </tr>\n",
       "  </tbody>\n",
       "</table>\n",
       "<p>122 rows × 12 columns</p>\n",
       "</div>"
      ],
      "text/plain": [
       "                          name platform  year_of_release         genre  \\\n",
       "16          Grand Theft Auto V      PS3             2013        Action   \n",
       "23          Grand Theft Auto V     X360             2013        Action   \n",
       "31   Call of Duty: Black Ops 3      PS4             2015       Shooter   \n",
       "33         Pokemon X/Pokemon Y      3DS             2013  Role-Playing   \n",
       "42          Grand Theft Auto V      PS4             2014        Action   \n",
       "..                         ...      ...              ...           ...   \n",
       "813                  DriveClub      PS4             2014        Racing   \n",
       "828              Madden NFL 15     X360             2014        Sports   \n",
       "846              Battlefield 4     XOne             2013       Shooter   \n",
       "849            Just Dance 2015      Wii             2014          Misc   \n",
       "850    Dragon Age: Inquisition      PS4             2014  Role-Playing   \n",
       "\n",
       "     na_sales  eu_sales  jp_sales  other_sales  critic_score user_score  \\\n",
       "16       7.02      9.09      0.98         3.96            97        8.2   \n",
       "23       9.66      5.14      0.06         1.41            97        8.1   \n",
       "31       6.03      5.86      0.36         2.38          <NA>        NaN   \n",
       "33       5.28      4.19      4.35         0.78          <NA>        NaN   \n",
       "42       3.96      6.31      0.38         1.97            97        8.3   \n",
       "..        ...       ...       ...          ...           ...        ...   \n",
       "813      0.36      1.38      0.02         0.31            71        6.1   \n",
       "828      1.77      0.06      0.00         0.22          <NA>        5.5   \n",
       "846      1.25      0.58      0.00         0.19            81        6.6   \n",
       "849      0.99      0.85      0.00         0.17          <NA>        8.4   \n",
       "850      0.73      0.88      0.08         0.32            89        7.4   \n",
       "\n",
       "    rating  all_sales  \n",
       "16       M      21.05  \n",
       "23       M      16.27  \n",
       "31     NaN      14.63  \n",
       "33     NaN      14.60  \n",
       "42       M      12.62  \n",
       "..     ...        ...  \n",
       "813      E       2.07  \n",
       "828      E       2.05  \n",
       "846      M       2.02  \n",
       "849   E10+       2.01  \n",
       "850      M       2.01  \n",
       "\n",
       "[122 rows x 12 columns]"
      ]
     },
     "metadata": {},
     "output_type": "display_data"
    },
    {
     "data": {
      "image/png": "[encoded data removed]",
      "text/plain": [
       "<Figure size 1152x504 with 1 Axes>"
      ]
     },
     "metadata": {},
     "output_type": "display_data"
    }
   ],
   "source": [
    "display(actual_data[actual_data['all_sales'] > 2]) #Бестсейлеры около 5.5%\n",
    "\n",
    "sns.boxplot(data=actual_data, x='platform', y='all_sales')\n",
    "plt.title('Рейтинг актуальных платформ за период 2013-2016г.')\n",
    "plt.xlabel('Кол-во проданных игр, млн. копий')\n",
    "plt.ylabel('Год релиза игры')\n",
    "plt.ylim(0, 2);"
   ]
  },
  {
   "cell_type": "markdown",
   "metadata": {},
   "source": [
    "На всех графиках, распределение **смещено вправа** - в сторону бОльшего количества продаж. За пределами 3-ого квартиля присутствуют **выбросы** - они же бестсейлера. Эти игры расположены в диапазоне от 2-20 млн. продаж, а их доля среди общего числа актуальных игр составляет 5,5%.\n",
    "\n",
    "Первые 5 платформ слева - лидеры, которые выбиваются в топ именно за счёт своих **бестсейлеров**. Следствием этого является повышенное внимание к платформе и увеличенное количество продаж среди других игр."
   ]
  },
  {
   "cell_type": "markdown",
   "metadata": {},
   "source": [
    "## 3.6. Посмотрите, как влияют на продажи внутри одной популярной платформы отзывы пользователей и критиков. Постройте диаграмму рассеяния и посчитайте корреляцию между отзывами и продажами. Сформулируйте выводы."
   ]
  },
  {
   "cell_type": "code",
   "execution_count": 37,
   "metadata": {},
   "outputs": [
    {
     "data": {
      "text/html": [
       "<div>\n",
       "<style scoped>\n",
       "    .dataframe tbody tr th:only-of-type {\n",
       "        vertical-align: middle;\n",
       "    }\n",
       "\n",
       "    .dataframe tbody tr th {\n",
       "        vertical-align: top;\n",
       "    }\n",
       "\n",
       "    .dataframe thead th {\n",
       "        text-align: right;\n",
       "    }\n",
       "</style>\n",
       "<table border=\"1\" class=\"dataframe\">\n",
       "  <thead>\n",
       "    <tr style=\"text-align: right;\">\n",
       "      <th></th>\n",
       "      <th>platform</th>\n",
       "      <th>user_score</th>\n",
       "      <th>critic_score</th>\n",
       "    </tr>\n",
       "  </thead>\n",
       "  <tbody>\n",
       "    <tr>\n",
       "      <th>0</th>\n",
       "      <td>PS4</td>\n",
       "      <td>263</td>\n",
       "      <td>252</td>\n",
       "    </tr>\n",
       "    <tr>\n",
       "      <th>1</th>\n",
       "      <td>PS3</td>\n",
       "      <td>209</td>\n",
       "      <td>121</td>\n",
       "    </tr>\n",
       "    <tr>\n",
       "      <th>2</th>\n",
       "      <td>XOne</td>\n",
       "      <td>193</td>\n",
       "      <td>169</td>\n",
       "    </tr>\n",
       "    <tr>\n",
       "      <th>3</th>\n",
       "      <td>PC</td>\n",
       "      <td>160</td>\n",
       "      <td>149</td>\n",
       "    </tr>\n",
       "    <tr>\n",
       "      <th>4</th>\n",
       "      <td>X360</td>\n",
       "      <td>153</td>\n",
       "      <td>81</td>\n",
       "    </tr>\n",
       "    <tr>\n",
       "      <th>5</th>\n",
       "      <td>PSV</td>\n",
       "      <td>106</td>\n",
       "      <td>77</td>\n",
       "    </tr>\n",
       "    <tr>\n",
       "      <th>6</th>\n",
       "      <td>3DS</td>\n",
       "      <td>105</td>\n",
       "      <td>71</td>\n",
       "    </tr>\n",
       "    <tr>\n",
       "      <th>7</th>\n",
       "      <td>WiiU</td>\n",
       "      <td>85</td>\n",
       "      <td>70</td>\n",
       "    </tr>\n",
       "    <tr>\n",
       "      <th>8</th>\n",
       "      <td>Wii</td>\n",
       "      <td>18</td>\n",
       "      <td>0</td>\n",
       "    </tr>\n",
       "    <tr>\n",
       "      <th>9</th>\n",
       "      <td>DS</td>\n",
       "      <td>6</td>\n",
       "      <td>0</td>\n",
       "    </tr>\n",
       "    <tr>\n",
       "      <th>10</th>\n",
       "      <td>PSP</td>\n",
       "      <td>2</td>\n",
       "      <td>1</td>\n",
       "    </tr>\n",
       "  </tbody>\n",
       "</table>\n",
       "</div>"
      ],
      "text/plain": [
       "   platform  user_score  critic_score\n",
       "0       PS4         263           252\n",
       "1       PS3         209           121\n",
       "2      XOne         193           169\n",
       "3        PC         160           149\n",
       "4      X360         153            81\n",
       "5       PSV         106            77\n",
       "6       3DS         105            71\n",
       "7      WiiU          85            70\n",
       "8       Wii          18             0\n",
       "9        DS           6             0\n",
       "10      PSP           2             1"
      ]
     },
     "metadata": {},
     "output_type": "display_data"
    }
   ],
   "source": [
    "a = actual_data.groupby('platform')['user_score'].count().sort_values(ascending=False).to_frame().reset_index()\n",
    "b = actual_data.groupby('platform')['critic_score'].count().sort_values(ascending=False).to_frame().reset_index()\n",
    "\n",
    "display(a.merge(b, how='outer'))"
   ]
  },
  {
   "cell_type": "markdown",
   "metadata": {},
   "source": [
    "Среди популярных платформ приставка Playstation 4 имеет **наибольшие выборки** по оценкам игроков и критиков. Её данные я возму за основу."
   ]
  },
  {
   "cell_type": "code",
   "execution_count": 38,
   "metadata": {
    "scrolled": false
   },
   "outputs": [
    {
     "data": {
      "image/png": "[encoded data removed]",
      "text/plain": [
       "<Figure size 576x360 with 1 Axes>"
      ]
     },
     "metadata": {},
     "output_type": "display_data"
    },
    {
     "data": {
      "image/png": "[encoded data removed]",
      "text/plain": [
       "<Figure size 576x360 with 1 Axes>"
      ]
     },
     "metadata": {},
     "output_type": "display_data"
    }
   ],
   "source": [
    "PS4_data = actual_data[actual_data['platform'] == 'PS4'] #отбираю игры Playstation 4 за актуальный период (2013-2016)\n",
    "PS4_data = PS4_data[PS4_data['user_score'] != 'tbd'] #отбрасываю игры, оценка которых ещё не сформирована\n",
    "PS4_data['user_score'] = PS4_data['user_score'].astype('float') #оставшимся значениям присваиваю численный тип данных\n",
    "\n",
    "#plt.subplot(121) #попытка разместить оба графика по горизонтали, для удобного обзора\n",
    "PS4_data.plot(x='user_score', y='all_sales', kind='scatter', alpha=1, c='g', figsize=(8, 5), grid=True,\n",
    "              xlabel='Оценки игроков (по 10-ти бальной шкале)', ylabel='Кол-во продаж, млн. копий',\n",
    "              title='Зависимость между продажами и оценками игроков')\n",
    "\n",
    "#plt.subplot(122)\n",
    "PS4_data.plot(x='critic_score', y='all_sales', kind='scatter', alpha=1, c='r', figsize=(8, 5), grid=True,\n",
    "              xlabel='Оценки (критиков по 100 бальной шкале)', ylabel='Кол-во продаж, млн. копий',\n",
    "              title='Зависимость между продажами и оценками критиков');\n",
    "\n",
    "#PS4_data[PS4_data['all_sales'] > 12] #любопытный выброс"
   ]
  },
  {
   "cell_type": "markdown",
   "metadata": {},
   "source": [
    "Положительные оценки **критиков**, вцелом, положительно влияют на рост продаж, но зависимость между этими величинами слабая. У игр, получившие оценки 70 баллов и выше, резко увеличивается шанс стать бестсейлером.\n",
    "\n",
    "Среди оценок **игроков** вовсе отсутствует явная зависимость. К примеру: игры с продажими от 6 млн. копий. Только одна из них имеет 9,7/10 баллов. Оценки остальных лежат в диапазоне: 4,0 - 6,5 баллов. Большинство оценок находятся в диапазоне 5,4 - 8,8 баллов.\n",
    "\n",
    "Вцелом, такой результат получается из-за **разного подхода** в оценке у игрока и критика. Среди пользователей имеет место быть \"импульсивность\" - поставить завышенную/заниженную оценку опираясь на краткосрочный всплеск эмоций. Например влепить минимальную оценку, т.к. игра не оправдала личные ожидания по сюжету, при этом не обратив внимание на техническую составляющую. Короче говоря: **объективность**."
   ]
  },
  {
   "cell_type": "code",
   "execution_count": 39,
   "metadata": {},
   "outputs": [
    {
     "data": {
      "text/html": [
       "<div>\n",
       "<style scoped>\n",
       "    .dataframe tbody tr th:only-of-type {\n",
       "        vertical-align: middle;\n",
       "    }\n",
       "\n",
       "    .dataframe tbody tr th {\n",
       "        vertical-align: top;\n",
       "    }\n",
       "\n",
       "    .dataframe thead th {\n",
       "        text-align: right;\n",
       "    }\n",
       "</style>\n",
       "<table border=\"1\" class=\"dataframe\">\n",
       "  <thead>\n",
       "    <tr style=\"text-align: right;\">\n",
       "      <th></th>\n",
       "      <th>user_score</th>\n",
       "      <th>critic_score</th>\n",
       "      <th>all_sales</th>\n",
       "    </tr>\n",
       "  </thead>\n",
       "  <tbody>\n",
       "    <tr>\n",
       "      <th>user_score</th>\n",
       "      <td>1.000000</td>\n",
       "      <td>0.557654</td>\n",
       "      <td>-0.031957</td>\n",
       "    </tr>\n",
       "    <tr>\n",
       "      <th>critic_score</th>\n",
       "      <td>0.557654</td>\n",
       "      <td>1.000000</td>\n",
       "      <td>0.406469</td>\n",
       "    </tr>\n",
       "    <tr>\n",
       "      <th>all_sales</th>\n",
       "      <td>-0.031957</td>\n",
       "      <td>0.406469</td>\n",
       "      <td>1.000000</td>\n",
       "    </tr>\n",
       "  </tbody>\n",
       "</table>\n",
       "</div>"
      ],
      "text/plain": [
       "              user_score  critic_score  all_sales\n",
       "user_score      1.000000      0.557654  -0.031957\n",
       "critic_score    0.557654      1.000000   0.406469\n",
       "all_sales      -0.031957      0.406469   1.000000"
      ]
     },
     "execution_count": 39,
     "metadata": {},
     "output_type": "execute_result"
    }
   ],
   "source": [
    "PS4_data[['user_score', 'critic_score', 'all_sales']].corr()"
   ]
  },
  {
   "cell_type": "markdown",
   "metadata": {},
   "source": [
    "## 3.7. Соотнесите выводы с продажами игр на других платформах."
   ]
  },
  {
   "cell_type": "code",
   "execution_count": 40,
   "metadata": {
    "scrolled": false
   },
   "outputs": [
    {
     "data": {
      "image/png": "[encoded data removed]",
      "text/plain": [
       "<Figure size 576x360 with 1 Axes>"
      ]
     },
     "metadata": {},
     "output_type": "display_data"
    },
    {
     "data": {
      "image/png": "[encoded data removed]",
      "text/plain": [
       "<Figure size 576x360 with 1 Axes>"
      ]
     },
     "metadata": {},
     "output_type": "display_data"
    }
   ],
   "source": [
    "XOne_data = actual_data[actual_data['platform'] == 'XOne'] \n",
    "XOne_data = XOne_data[XOne_data['user_score'] != 'tbd'] \n",
    "XOne_data['user_score'] = XOne_data['user_score'].astype('float')\n",
    "\n",
    "XOne_data.plot(x='user_score', y='all_sales', kind='scatter', alpha=1, c='g', figsize=(8, 5), grid=True,\n",
    "               xlabel='Оценки игроков (по 10-ти бальной шкале)', ylabel='Кол-во продаж, млн. копий',\n",
    "               title='Зависимость между продажами и оценками игроков')\n",
    "\n",
    "XOne_data.plot(x='critic_score', y='all_sales', kind='scatter', alpha=1, c='r', figsize=(8, 5), grid=True,\n",
    "               xlabel='Оценки (критиков по 100 бальной шкале)', ylabel='Кол-во продаж, млн. копий',\n",
    "               title='Зависимость между продажами и оценками критиков');"
   ]
  },
  {
   "cell_type": "markdown",
   "metadata": {},
   "source": [
    "Аналогичный результат для игр платформы `XBox One`. Большие продажи соответствуют играм с оценкой критиков от 70 баллов. А среди оценок пользователей - всё так же не так однозначно."
   ]
  },
  {
   "cell_type": "code",
   "execution_count": 41,
   "metadata": {},
   "outputs": [
    {
     "data": {
      "text/html": [
       "<div>\n",
       "<style scoped>\n",
       "    .dataframe tbody tr th:only-of-type {\n",
       "        vertical-align: middle;\n",
       "    }\n",
       "\n",
       "    .dataframe tbody tr th {\n",
       "        vertical-align: top;\n",
       "    }\n",
       "\n",
       "    .dataframe thead th {\n",
       "        text-align: right;\n",
       "    }\n",
       "</style>\n",
       "<table border=\"1\" class=\"dataframe\">\n",
       "  <thead>\n",
       "    <tr style=\"text-align: right;\">\n",
       "      <th></th>\n",
       "      <th>user_score</th>\n",
       "      <th>critic_score</th>\n",
       "      <th>all_sales</th>\n",
       "    </tr>\n",
       "  </thead>\n",
       "  <tbody>\n",
       "    <tr>\n",
       "      <th>user_score</th>\n",
       "      <td>1.000000</td>\n",
       "      <td>0.472462</td>\n",
       "      <td>-0.068925</td>\n",
       "    </tr>\n",
       "    <tr>\n",
       "      <th>critic_score</th>\n",
       "      <td>0.472462</td>\n",
       "      <td>1.000000</td>\n",
       "      <td>0.412156</td>\n",
       "    </tr>\n",
       "    <tr>\n",
       "      <th>all_sales</th>\n",
       "      <td>-0.068925</td>\n",
       "      <td>0.412156</td>\n",
       "      <td>1.000000</td>\n",
       "    </tr>\n",
       "  </tbody>\n",
       "</table>\n",
       "</div>"
      ],
      "text/plain": [
       "              user_score  critic_score  all_sales\n",
       "user_score      1.000000      0.472462  -0.068925\n",
       "critic_score    0.472462      1.000000   0.412156\n",
       "all_sales      -0.068925      0.412156   1.000000"
      ]
     },
     "execution_count": 41,
     "metadata": {},
     "output_type": "execute_result"
    }
   ],
   "source": [
    "XOne_data[['user_score', 'critic_score', 'all_sales']].corr()"
   ]
  },
  {
   "cell_type": "markdown",
   "metadata": {},
   "source": [
    "## 3.8. Посмотрите на общее распределение игр по жанрам. Что можно сказать о самых прибыльных жанрах? Выделяются ли жанры с высокими и низкими продажами?"
   ]
  },
  {
   "cell_type": "code",
   "execution_count": 42,
   "metadata": {},
   "outputs": [
    {
     "data": {
      "image/png": "[encoded data removed]",
      "text/plain": [
       "<Figure size 1152x504 with 1 Axes>"
      ]
     },
     "metadata": {},
     "output_type": "display_data"
    }
   ],
   "source": [
    "sns.barplot(data = actual_data.groupby('genre')['name'].count().sort_values(ascending=False).to_frame().reset_index(),\n",
    "            x='genre', y='name')\n",
    "plt.title('Рейтинг жанров по количеству изданных игр (2013-2016г.)')\n",
    "plt.ylabel('Количество игр')\n",
    "plt.xlabel('Жанры');"
   ]
  },
  {
   "cell_type": "code",
   "execution_count": 43,
   "metadata": {},
   "outputs": [
    {
     "data": {
      "image/png": "[encoded data removed]",
      "text/plain": [
       "<Figure size 1152x504 with 1 Axes>"
      ]
     },
     "metadata": {},
     "output_type": "display_data"
    }
   ],
   "source": [
    "sns.barplot(data = actual_data.groupby('genre')['all_sales'].sum().sort_values(ascending=False).to_frame().reset_index(),\n",
    "            x='genre', y='all_sales')\n",
    "plt.title('Рейтинг жанров по количеству проданных игр (2013-2016г.)');\n",
    "plt.ylabel('Количество игр')\n",
    "plt.xlabel('Жанры');"
   ]
  },
  {
   "cell_type": "markdown",
   "metadata": {},
   "source": [
    "- Самый прибыль жанр, и он же самый популярный: `Action`. В нём огромное количество игр, что создаёт большую конкуренцию.\n",
    "\n",
    "- 2-ой по продажам: `Shooter`, хотя по количеству игр занимает 5ое место. Возможно, в этом жанре ещё не успела сформироваться жесткая конкуренция и есть свободные места.\n",
    "\n",
    "- Аналогичная ситуация для `Sports`, занимающий 3е место среди популярных жанров. Правда он близок к насыщению, т.к. по количеству игр находится выше `Shooter`'a.\n",
    "\n",
    "- `Role-Playing`, следующий по очереди, является примером пересыщенного играми жанра.\n",
    "\n",
    "Примечание: не стоит терять из вижу, что доход складывается не только от количества проданных игр, но и от стоимости самой игры и внутреигровых транзакций, хотя это тема отдельного исследования."
   ]
  },
  {
   "cell_type": "markdown",
   "metadata": {},
   "source": [
    "<a id='section_4'></a> \n",
    "# 4. Портет игрока для каждого региона"
   ]
  },
  {
   "cell_type": "markdown",
   "metadata": {},
   "source": [
    "Определить для пользователя каждого региона (`NA`, `EU`, `JP`):\n",
    "- Самые популярные платформы (топ-5). Опишите различия в долях продаж.\n",
    "- Самые популярные жанры (топ-5). Поясните разницу.\n",
    "- Влияет ли рейтинг ESRB на продажи в отдельном регионе?"
   ]
  },
  {
   "cell_type": "markdown",
   "metadata": {},
   "source": [
    "## 4.1. Портрет `NA` игрока"
   ]
  },
  {
   "cell_type": "code",
   "execution_count": 44,
   "metadata": {
    "scrolled": true
   },
   "outputs": [
    {
     "name": "stdout",
     "output_type": "stream",
     "text": [
      "\n",
      "    TOP 5 platform\n"
     ]
    },
    {
     "data": {
      "text/html": [
       "<div>\n",
       "<style scoped>\n",
       "    .dataframe tbody tr th:only-of-type {\n",
       "        vertical-align: middle;\n",
       "    }\n",
       "\n",
       "    .dataframe tbody tr th {\n",
       "        vertical-align: top;\n",
       "    }\n",
       "\n",
       "    .dataframe thead th {\n",
       "        text-align: right;\n",
       "    }\n",
       "</style>\n",
       "<table border=\"1\" class=\"dataframe\">\n",
       "  <thead>\n",
       "    <tr style=\"text-align: right;\">\n",
       "      <th></th>\n",
       "      <th>platform</th>\n",
       "      <th>na_sales</th>\n",
       "      <th>part, %</th>\n",
       "    </tr>\n",
       "  </thead>\n",
       "  <tbody>\n",
       "    <tr>\n",
       "      <th>0</th>\n",
       "      <td>PS4</td>\n",
       "      <td>108.74</td>\n",
       "      <td>24.8</td>\n",
       "    </tr>\n",
       "    <tr>\n",
       "      <th>1</th>\n",
       "      <td>XOne</td>\n",
       "      <td>93.12</td>\n",
       "      <td>21.3</td>\n",
       "    </tr>\n",
       "    <tr>\n",
       "      <th>2</th>\n",
       "      <td>X360</td>\n",
       "      <td>81.66</td>\n",
       "      <td>18.7</td>\n",
       "    </tr>\n",
       "    <tr>\n",
       "      <th>3</th>\n",
       "      <td>PS3</td>\n",
       "      <td>63.50</td>\n",
       "      <td>14.5</td>\n",
       "    </tr>\n",
       "    <tr>\n",
       "      <th>4</th>\n",
       "      <td>3DS</td>\n",
       "      <td>38.20</td>\n",
       "      <td>8.7</td>\n",
       "    </tr>\n",
       "  </tbody>\n",
       "</table>\n",
       "</div>"
      ],
      "text/plain": [
       "  platform  na_sales  part, %\n",
       "0      PS4    108.74     24.8\n",
       "1     XOne     93.12     21.3\n",
       "2     X360     81.66     18.7\n",
       "3      PS3     63.50     14.5\n",
       "4      3DS     38.20      8.7"
      ]
     },
     "metadata": {},
     "output_type": "display_data"
    },
    {
     "name": "stdout",
     "output_type": "stream",
     "text": [
      "\n",
      "    TOP 5 genre\n"
     ]
    },
    {
     "data": {
      "text/html": [
       "<div>\n",
       "<style scoped>\n",
       "    .dataframe tbody tr th:only-of-type {\n",
       "        vertical-align: middle;\n",
       "    }\n",
       "\n",
       "    .dataframe tbody tr th {\n",
       "        vertical-align: top;\n",
       "    }\n",
       "\n",
       "    .dataframe thead th {\n",
       "        text-align: right;\n",
       "    }\n",
       "</style>\n",
       "<table border=\"1\" class=\"dataframe\">\n",
       "  <thead>\n",
       "    <tr style=\"text-align: right;\">\n",
       "      <th></th>\n",
       "      <th>genre</th>\n",
       "      <th>na_sales</th>\n",
       "      <th>part, %</th>\n",
       "    </tr>\n",
       "  </thead>\n",
       "  <tbody>\n",
       "    <tr>\n",
       "      <th>0</th>\n",
       "      <td>Action</td>\n",
       "      <td>126.07</td>\n",
       "      <td>28.8</td>\n",
       "    </tr>\n",
       "    <tr>\n",
       "      <th>1</th>\n",
       "      <td>Shooter</td>\n",
       "      <td>109.74</td>\n",
       "      <td>25.1</td>\n",
       "    </tr>\n",
       "    <tr>\n",
       "      <th>2</th>\n",
       "      <td>Sports</td>\n",
       "      <td>65.27</td>\n",
       "      <td>14.9</td>\n",
       "    </tr>\n",
       "    <tr>\n",
       "      <th>3</th>\n",
       "      <td>Role-Playing</td>\n",
       "      <td>46.40</td>\n",
       "      <td>10.6</td>\n",
       "    </tr>\n",
       "    <tr>\n",
       "      <th>4</th>\n",
       "      <td>Misc</td>\n",
       "      <td>27.49</td>\n",
       "      <td>6.3</td>\n",
       "    </tr>\n",
       "  </tbody>\n",
       "</table>\n",
       "</div>"
      ],
      "text/plain": [
       "          genre  na_sales  part, %\n",
       "0        Action    126.07     28.8\n",
       "1       Shooter    109.74     25.1\n",
       "2        Sports     65.27     14.9\n",
       "3  Role-Playing     46.40     10.6\n",
       "4          Misc     27.49      6.3"
      ]
     },
     "metadata": {},
     "output_type": "display_data"
    },
    {
     "name": "stdout",
     "output_type": "stream",
     "text": [
      "\n",
      "    TOP 5 rating\n"
     ]
    },
    {
     "data": {
      "text/html": [
       "<div>\n",
       "<style scoped>\n",
       "    .dataframe tbody tr th:only-of-type {\n",
       "        vertical-align: middle;\n",
       "    }\n",
       "\n",
       "    .dataframe tbody tr th {\n",
       "        vertical-align: top;\n",
       "    }\n",
       "\n",
       "    .dataframe thead th {\n",
       "        text-align: right;\n",
       "    }\n",
       "</style>\n",
       "<table border=\"1\" class=\"dataframe\">\n",
       "  <thead>\n",
       "    <tr style=\"text-align: right;\">\n",
       "      <th></th>\n",
       "      <th>rating</th>\n",
       "      <th>na_sales</th>\n",
       "      <th>part, %</th>\n",
       "    </tr>\n",
       "  </thead>\n",
       "  <tbody>\n",
       "    <tr>\n",
       "      <th>0</th>\n",
       "      <td>M</td>\n",
       "      <td>165.21</td>\n",
       "      <td>47.4</td>\n",
       "    </tr>\n",
       "    <tr>\n",
       "      <th>1</th>\n",
       "      <td>E</td>\n",
       "      <td>79.05</td>\n",
       "      <td>22.7</td>\n",
       "    </tr>\n",
       "    <tr>\n",
       "      <th>2</th>\n",
       "      <td>E10+</td>\n",
       "      <td>54.26</td>\n",
       "      <td>15.6</td>\n",
       "    </tr>\n",
       "    <tr>\n",
       "      <th>3</th>\n",
       "      <td>T</td>\n",
       "      <td>49.79</td>\n",
       "      <td>14.3</td>\n",
       "    </tr>\n",
       "  </tbody>\n",
       "</table>\n",
       "</div>"
      ],
      "text/plain": [
       "  rating  na_sales  part, %\n",
       "0      M    165.21     47.4\n",
       "1      E     79.05     22.7\n",
       "2   E10+     54.26     15.6\n",
       "3      T     49.79     14.3"
      ]
     },
     "metadata": {},
     "output_type": "display_data"
    }
   ],
   "source": [
    "for col in ['platform', 'genre', 'rating']:\n",
    "    print('\\n    TOP 5', col)\n",
    "    top_5_NA = actual_data.groupby(col)['na_sales'].sum().sort_values(ascending=False).to_frame().reset_index()\n",
    "    top_5_NA['part, %'] = round(top_5_NA['na_sales'] / sum(top_5_NA['na_sales']) * 100, 1)\n",
    "    top_5_NA = top_5_NA[:5]\n",
    "    display(top_5_NA)"
   ]
  },
  {
   "cell_type": "markdown",
   "metadata": {},
   "source": [
    "Для 40% игроков Северной Америки типична **приставка** от `Xbox (One/360)` - они в тройке лидеров, хотя первое место занимает новая приставка `Playstation 4`. Предыдущее поколение `PS3` теряет конкурентоспособность. `Nintendo 3DS` - замыкает топ.\n",
    "\n",
    "Явные лидеры **жанров**: `Action` и `Shooter` - 29% и 25%, соответственно. Далее (в порядке равномерного убывания доли продаж): `Sports`, `Role-Playing` и `Music`.\n",
    "\n",
    "Почти половина (47,4%) продаваемых игр в Северной Америке предназначены для **взрослых** от 18 лет. Чуть меньше трети - это игры для подростков разного возроста. Около четверти (22,7%) приходится на игры без ограничений."
   ]
  },
  {
   "cell_type": "markdown",
   "metadata": {},
   "source": [
    "## 4.2. Портрет `EU` игрока"
   ]
  },
  {
   "cell_type": "code",
   "execution_count": 45,
   "metadata": {
    "scrolled": true
   },
   "outputs": [
    {
     "name": "stdout",
     "output_type": "stream",
     "text": [
      "\n",
      "    TOP 5 platform\n"
     ]
    },
    {
     "data": {
      "text/html": [
       "<div>\n",
       "<style scoped>\n",
       "    .dataframe tbody tr th:only-of-type {\n",
       "        vertical-align: middle;\n",
       "    }\n",
       "\n",
       "    .dataframe tbody tr th {\n",
       "        vertical-align: top;\n",
       "    }\n",
       "\n",
       "    .dataframe thead th {\n",
       "        text-align: right;\n",
       "    }\n",
       "</style>\n",
       "<table border=\"1\" class=\"dataframe\">\n",
       "  <thead>\n",
       "    <tr style=\"text-align: right;\">\n",
       "      <th></th>\n",
       "      <th>platform</th>\n",
       "      <th>eu_sales</th>\n",
       "      <th>part</th>\n",
       "    </tr>\n",
       "  </thead>\n",
       "  <tbody>\n",
       "    <tr>\n",
       "      <th>0</th>\n",
       "      <td>PS4</td>\n",
       "      <td>141.09</td>\n",
       "      <td>36.0</td>\n",
       "    </tr>\n",
       "    <tr>\n",
       "      <th>1</th>\n",
       "      <td>PS3</td>\n",
       "      <td>67.81</td>\n",
       "      <td>17.3</td>\n",
       "    </tr>\n",
       "    <tr>\n",
       "      <th>2</th>\n",
       "      <td>XOne</td>\n",
       "      <td>51.59</td>\n",
       "      <td>13.2</td>\n",
       "    </tr>\n",
       "    <tr>\n",
       "      <th>3</th>\n",
       "      <td>X360</td>\n",
       "      <td>42.52</td>\n",
       "      <td>10.8</td>\n",
       "    </tr>\n",
       "    <tr>\n",
       "      <th>4</th>\n",
       "      <td>3DS</td>\n",
       "      <td>30.96</td>\n",
       "      <td>7.9</td>\n",
       "    </tr>\n",
       "  </tbody>\n",
       "</table>\n",
       "</div>"
      ],
      "text/plain": [
       "  platform  eu_sales  part\n",
       "0      PS4    141.09  36.0\n",
       "1      PS3     67.81  17.3\n",
       "2     XOne     51.59  13.2\n",
       "3     X360     42.52  10.8\n",
       "4      3DS     30.96   7.9"
      ]
     },
     "metadata": {},
     "output_type": "display_data"
    },
    {
     "name": "stdout",
     "output_type": "stream",
     "text": [
      "\n",
      "    TOP 5 genre\n"
     ]
    },
    {
     "data": {
      "text/html": [
       "<div>\n",
       "<style scoped>\n",
       "    .dataframe tbody tr th:only-of-type {\n",
       "        vertical-align: middle;\n",
       "    }\n",
       "\n",
       "    .dataframe tbody tr th {\n",
       "        vertical-align: top;\n",
       "    }\n",
       "\n",
       "    .dataframe thead th {\n",
       "        text-align: right;\n",
       "    }\n",
       "</style>\n",
       "<table border=\"1\" class=\"dataframe\">\n",
       "  <thead>\n",
       "    <tr style=\"text-align: right;\">\n",
       "      <th></th>\n",
       "      <th>genre</th>\n",
       "      <th>eu_sales</th>\n",
       "      <th>part</th>\n",
       "    </tr>\n",
       "  </thead>\n",
       "  <tbody>\n",
       "    <tr>\n",
       "      <th>0</th>\n",
       "      <td>Action</td>\n",
       "      <td>118.13</td>\n",
       "      <td>30.1</td>\n",
       "    </tr>\n",
       "    <tr>\n",
       "      <th>1</th>\n",
       "      <td>Shooter</td>\n",
       "      <td>87.86</td>\n",
       "      <td>22.4</td>\n",
       "    </tr>\n",
       "    <tr>\n",
       "      <th>2</th>\n",
       "      <td>Sports</td>\n",
       "      <td>60.52</td>\n",
       "      <td>15.4</td>\n",
       "    </tr>\n",
       "    <tr>\n",
       "      <th>3</th>\n",
       "      <td>Role-Playing</td>\n",
       "      <td>36.97</td>\n",
       "      <td>9.4</td>\n",
       "    </tr>\n",
       "    <tr>\n",
       "      <th>4</th>\n",
       "      <td>Racing</td>\n",
       "      <td>20.19</td>\n",
       "      <td>5.1</td>\n",
       "    </tr>\n",
       "  </tbody>\n",
       "</table>\n",
       "</div>"
      ],
      "text/plain": [
       "          genre  eu_sales  part\n",
       "0        Action    118.13  30.1\n",
       "1       Shooter     87.86  22.4\n",
       "2        Sports     60.52  15.4\n",
       "3  Role-Playing     36.97   9.4\n",
       "4        Racing     20.19   5.1"
      ]
     },
     "metadata": {},
     "output_type": "display_data"
    },
    {
     "name": "stdout",
     "output_type": "stream",
     "text": [
      "\n",
      "    TOP 5 rating\n"
     ]
    },
    {
     "data": {
      "text/html": [
       "<div>\n",
       "<style scoped>\n",
       "    .dataframe tbody tr th:only-of-type {\n",
       "        vertical-align: middle;\n",
       "    }\n",
       "\n",
       "    .dataframe tbody tr th {\n",
       "        vertical-align: top;\n",
       "    }\n",
       "\n",
       "    .dataframe thead th {\n",
       "        text-align: right;\n",
       "    }\n",
       "</style>\n",
       "<table border=\"1\" class=\"dataframe\">\n",
       "  <thead>\n",
       "    <tr style=\"text-align: right;\">\n",
       "      <th></th>\n",
       "      <th>rating</th>\n",
       "      <th>eu_sales</th>\n",
       "      <th>part</th>\n",
       "    </tr>\n",
       "  </thead>\n",
       "  <tbody>\n",
       "    <tr>\n",
       "      <th>0</th>\n",
       "      <td>M</td>\n",
       "      <td>145.32</td>\n",
       "      <td>46.4</td>\n",
       "    </tr>\n",
       "    <tr>\n",
       "      <th>1</th>\n",
       "      <td>E</td>\n",
       "      <td>83.36</td>\n",
       "      <td>26.6</td>\n",
       "    </tr>\n",
       "    <tr>\n",
       "      <th>2</th>\n",
       "      <td>E10+</td>\n",
       "      <td>42.69</td>\n",
       "      <td>13.6</td>\n",
       "    </tr>\n",
       "    <tr>\n",
       "      <th>3</th>\n",
       "      <td>T</td>\n",
       "      <td>41.95</td>\n",
       "      <td>13.4</td>\n",
       "    </tr>\n",
       "  </tbody>\n",
       "</table>\n",
       "</div>"
      ],
      "text/plain": [
       "  rating  eu_sales  part\n",
       "0      M    145.32  46.4\n",
       "1      E     83.36  26.6\n",
       "2   E10+     42.69  13.6\n",
       "3      T     41.95  13.4"
      ]
     },
     "metadata": {},
     "output_type": "display_data"
    }
   ],
   "source": [
    "for col in ['platform', 'genre', 'rating']:\n",
    "    print('\\n    TOP 5', col)\n",
    "    top_5_EU = actual_data.groupby(col)['eu_sales'].sum().sort_values(ascending=False).to_frame().reset_index()\n",
    "    top_5_EU['part'] = round(top_5_EU['eu_sales'] / sum(top_5_EU['eu_sales']) * 100, 1)\n",
    "    top_5_EU = top_5_EU[:5]\n",
    "    display(top_5_EU)"
   ]
  },
  {
   "cell_type": "markdown",
   "metadata": {},
   "source": [
    "На территории Европы те же лидеры среди **приставок**. Правда `Playstation 3 и 4` является подавляющим большинством, т.к. на эту платформу приходится около 53% игр. `Xbox One и 360`, суммарно, занимают не более _четверти_ от общего числа.\n",
    "\n",
    "В контексте игровых **жанров**, сохранился тот же порядок лидеров, но с небольшим отличиям. На жанр `Action` приходится 30% игр и он лидирует со значительным отрывом от `Shooter`'ов (22%). Линейку \"ТОП 5 жанров\" замыкает `Racing`, в отличии от `Music` в Сев. Америке.\n",
    "\n",
    "**Возростной рейтинг** игр - аналогный."
   ]
  },
  {
   "cell_type": "markdown",
   "metadata": {},
   "source": [
    "## 4.3. Портрет `JP` игрока"
   ]
  },
  {
   "cell_type": "code",
   "execution_count": 46,
   "metadata": {
    "scrolled": true
   },
   "outputs": [
    {
     "name": "stdout",
     "output_type": "stream",
     "text": [
      "\n",
      "    TOP 5 platform\n"
     ]
    },
    {
     "data": {
      "text/html": [
       "<div>\n",
       "<style scoped>\n",
       "    .dataframe tbody tr th:only-of-type {\n",
       "        vertical-align: middle;\n",
       "    }\n",
       "\n",
       "    .dataframe tbody tr th {\n",
       "        vertical-align: top;\n",
       "    }\n",
       "\n",
       "    .dataframe thead th {\n",
       "        text-align: right;\n",
       "    }\n",
       "</style>\n",
       "<table border=\"1\" class=\"dataframe\">\n",
       "  <thead>\n",
       "    <tr style=\"text-align: right;\">\n",
       "      <th></th>\n",
       "      <th>platform</th>\n",
       "      <th>jp_sales</th>\n",
       "      <th>part</th>\n",
       "    </tr>\n",
       "  </thead>\n",
       "  <tbody>\n",
       "    <tr>\n",
       "      <th>0</th>\n",
       "      <td>3DS</td>\n",
       "      <td>67.81</td>\n",
       "      <td>48.2</td>\n",
       "    </tr>\n",
       "    <tr>\n",
       "      <th>1</th>\n",
       "      <td>PS3</td>\n",
       "      <td>23.35</td>\n",
       "      <td>16.6</td>\n",
       "    </tr>\n",
       "    <tr>\n",
       "      <th>2</th>\n",
       "      <td>PSV</td>\n",
       "      <td>18.59</td>\n",
       "      <td>13.2</td>\n",
       "    </tr>\n",
       "    <tr>\n",
       "      <th>3</th>\n",
       "      <td>PS4</td>\n",
       "      <td>15.96</td>\n",
       "      <td>11.3</td>\n",
       "    </tr>\n",
       "    <tr>\n",
       "      <th>4</th>\n",
       "      <td>WiiU</td>\n",
       "      <td>10.88</td>\n",
       "      <td>7.7</td>\n",
       "    </tr>\n",
       "  </tbody>\n",
       "</table>\n",
       "</div>"
      ],
      "text/plain": [
       "  platform  jp_sales  part\n",
       "0      3DS     67.81  48.2\n",
       "1      PS3     23.35  16.6\n",
       "2      PSV     18.59  13.2\n",
       "3      PS4     15.96  11.3\n",
       "4     WiiU     10.88   7.7"
      ]
     },
     "metadata": {},
     "output_type": "display_data"
    },
    {
     "name": "stdout",
     "output_type": "stream",
     "text": [
      "\n",
      "    TOP 5 genre\n"
     ]
    },
    {
     "data": {
      "text/html": [
       "<div>\n",
       "<style scoped>\n",
       "    .dataframe tbody tr th:only-of-type {\n",
       "        vertical-align: middle;\n",
       "    }\n",
       "\n",
       "    .dataframe tbody tr th {\n",
       "        vertical-align: top;\n",
       "    }\n",
       "\n",
       "    .dataframe thead th {\n",
       "        text-align: right;\n",
       "    }\n",
       "</style>\n",
       "<table border=\"1\" class=\"dataframe\">\n",
       "  <thead>\n",
       "    <tr style=\"text-align: right;\">\n",
       "      <th></th>\n",
       "      <th>genre</th>\n",
       "      <th>jp_sales</th>\n",
       "      <th>part</th>\n",
       "    </tr>\n",
       "  </thead>\n",
       "  <tbody>\n",
       "    <tr>\n",
       "      <th>0</th>\n",
       "      <td>Role-Playing</td>\n",
       "      <td>51.04</td>\n",
       "      <td>36.3</td>\n",
       "    </tr>\n",
       "    <tr>\n",
       "      <th>1</th>\n",
       "      <td>Action</td>\n",
       "      <td>40.49</td>\n",
       "      <td>28.8</td>\n",
       "    </tr>\n",
       "    <tr>\n",
       "      <th>2</th>\n",
       "      <td>Misc</td>\n",
       "      <td>9.20</td>\n",
       "      <td>6.5</td>\n",
       "    </tr>\n",
       "    <tr>\n",
       "      <th>3</th>\n",
       "      <td>Fighting</td>\n",
       "      <td>7.65</td>\n",
       "      <td>5.4</td>\n",
       "    </tr>\n",
       "    <tr>\n",
       "      <th>4</th>\n",
       "      <td>Shooter</td>\n",
       "      <td>6.61</td>\n",
       "      <td>4.7</td>\n",
       "    </tr>\n",
       "  </tbody>\n",
       "</table>\n",
       "</div>"
      ],
      "text/plain": [
       "          genre  jp_sales  part\n",
       "0  Role-Playing     51.04  36.3\n",
       "1        Action     40.49  28.8\n",
       "2          Misc      9.20   6.5\n",
       "3      Fighting      7.65   5.4\n",
       "4       Shooter      6.61   4.7"
      ]
     },
     "metadata": {},
     "output_type": "display_data"
    },
    {
     "name": "stdout",
     "output_type": "stream",
     "text": [
      "\n",
      "    TOP 5 rating\n"
     ]
    },
    {
     "data": {
      "text/html": [
       "<div>\n",
       "<style scoped>\n",
       "    .dataframe tbody tr th:only-of-type {\n",
       "        vertical-align: middle;\n",
       "    }\n",
       "\n",
       "    .dataframe tbody tr th {\n",
       "        vertical-align: top;\n",
       "    }\n",
       "\n",
       "    .dataframe thead th {\n",
       "        text-align: right;\n",
       "    }\n",
       "</style>\n",
       "<table border=\"1\" class=\"dataframe\">\n",
       "  <thead>\n",
       "    <tr style=\"text-align: right;\">\n",
       "      <th></th>\n",
       "      <th>rating</th>\n",
       "      <th>jp_sales</th>\n",
       "      <th>part</th>\n",
       "    </tr>\n",
       "  </thead>\n",
       "  <tbody>\n",
       "    <tr>\n",
       "      <th>0</th>\n",
       "      <td>T</td>\n",
       "      <td>20.59</td>\n",
       "      <td>36.9</td>\n",
       "    </tr>\n",
       "    <tr>\n",
       "      <th>1</th>\n",
       "      <td>E</td>\n",
       "      <td>15.14</td>\n",
       "      <td>27.2</td>\n",
       "    </tr>\n",
       "    <tr>\n",
       "      <th>2</th>\n",
       "      <td>M</td>\n",
       "      <td>14.11</td>\n",
       "      <td>25.3</td>\n",
       "    </tr>\n",
       "    <tr>\n",
       "      <th>3</th>\n",
       "      <td>E10+</td>\n",
       "      <td>5.89</td>\n",
       "      <td>10.6</td>\n",
       "    </tr>\n",
       "  </tbody>\n",
       "</table>\n",
       "</div>"
      ],
      "text/plain": [
       "  rating  jp_sales  part\n",
       "0      T     20.59  36.9\n",
       "1      E     15.14  27.2\n",
       "2      M     14.11  25.3\n",
       "3   E10+      5.89  10.6"
      ]
     },
     "metadata": {},
     "output_type": "display_data"
    }
   ],
   "source": [
    "for col in ['platform', 'genre', 'rating']:\n",
    "    print('\\n    TOP 5', col)\n",
    "    top_5_JP = actual_data.groupby(col)['jp_sales'].sum().sort_values(ascending=False).to_frame().reset_index()\n",
    "    top_5_JP['part'] = round(top_5_JP['jp_sales'] / sum(top_5_JP['jp_sales']) * 100, 1)\n",
    "    top_5_JP = top_5_JP[:5]\n",
    "    display(top_5_JP)"
   ]
  },
  {
   "cell_type": "markdown",
   "metadata": {},
   "source": [
    "Япония имеет координальные отличия. Абсолютный лидер среди **платформ**: `Nintendo 3DS`. Около _половины_ продаваемых игр доступны на этой портативной консоле. А домашная консоль `WiiU` от той же Nintendo, не пользуется схожей популярностью. Чуть больше _четверти_ игр приходится другую домашнуюе приставку: `Playstation 4 и 3`, кстати, последняя ещё сохраняет лидерство, над своим новым поколением. От этого же производителя есть популярная \"карманная\" консоль `Playstation Vita` - 13%.\n",
    "\n",
    "Лидеры **жанров**: `Role-Playing` и `Action` - 36% и 29%, соответственно. На оставшиеся жанры в среднем приходится не более 5-6% игр.\n",
    "\n",
    "Большенство игр не имеют особых возрастных ограничений. Доля игра **для врослых** составляет 25%."
   ]
  },
  {
   "cell_type": "markdown",
   "metadata": {},
   "source": [
    "<a id='section_5'></a> \n",
    "# 5. Проверка гипотез"
   ]
  },
  {
   "cell_type": "markdown",
   "metadata": {},
   "source": [
    "## 5.1. Средние пользовательские рейтинги платформ Xbox One и PC - одинаковые"
   ]
  },
  {
   "cell_type": "markdown",
   "metadata": {},
   "source": [
    "Необходимо сформулировать нулевую гипотезу (как правило, это утверждениео о равенстве) и альтернативную гипотезу, которая примиется за верную, в случае отвержения предыдущей.\n",
    "- Нулевая гипотеза (**H0**): Средние оценки пользователей на платформ `Xbox One` и `PC` - равны.\n",
    "- Альтер. гипотеза (**H1**): Средния оценка пользователей `Xbox One` выше, чем у пользователей `PC`.\n",
    "\n",
    "Необходимо провести проверку гипотезы о равенстве средних двух выборок, с помощью t-теста. Предворительно осмотрев исходные данные.\n",
    "- Выборки **независимы**, друг от друга.\n",
    "- Количество оценок пользователей _PC_ на 15% меньше чем у _Xbox One_. Дисперсии - **разные**."
   ]
  },
  {
   "cell_type": "code",
   "execution_count": 47,
   "metadata": {},
   "outputs": [
    {
     "name": "stdout",
     "output_type": "stream",
     "text": [
      "count    182.000000\n",
      "mean       6.521429\n",
      "std        1.380941\n",
      "min        1.600000\n",
      "25%        5.800000\n",
      "50%        6.800000\n",
      "75%        7.500000\n",
      "max        9.200000\n",
      "Name: user_score, dtype: float64\n"
     ]
    },
    {
     "data": {
      "image/png": "[encoded data removed]",
      "text/plain": [
       "<Figure size 1152x504 with 1 Axes>"
      ]
     },
     "metadata": {},
     "output_type": "display_data"
    }
   ],
   "source": [
    "XOne_score = actual_data.loc[actual_data['platform'] == 'XOne', 'user_score']\n",
    "XOne_score = XOne_score[(XOne_score != 'tbd') & (~XOne_score.isna())]\n",
    "XOne_score = XOne_score.astype('float')\n",
    "print(XOne_score.describe())\n",
    "plt.boxplot(XOne_score)\n",
    "plt.title('Диаграмма распределения оценок пользователей Xbox One');"
   ]
  },
  {
   "cell_type": "code",
   "execution_count": 48,
   "metadata": {},
   "outputs": [
    {
     "name": "stdout",
     "output_type": "stream",
     "text": [
      "count    155.000000\n",
      "mean       6.269677\n",
      "std        1.742381\n",
      "min        1.400000\n",
      "25%        5.300000\n",
      "50%        6.800000\n",
      "75%        7.600000\n",
      "max        9.300000\n",
      "Name: user_score, dtype: float64\n"
     ]
    },
    {
     "data": {
      "image/png": "[encoded data removed]",
      "text/plain": [
       "<Figure size 1152x504 with 1 Axes>"
      ]
     },
     "metadata": {},
     "output_type": "display_data"
    }
   ],
   "source": [
    "PC_score = actual_data.loc[actual_data['platform'] == 'PC', 'user_score']\n",
    "PC_score = PC_score[(PC_score != 'tbd') & (~PC_score.isna())]\n",
    "PC_score = PC_score.astype('float')\n",
    "print(PC_score.describe())\n",
    "plt.boxplot(PC_score)\n",
    "plt.title('Диаграмма распределения оценок пользователей Xbox One');"
   ]
  },
  {
   "cell_type": "code",
   "execution_count": 49,
   "metadata": {},
   "outputs": [
    {
     "name": "stdout",
     "output_type": "stream",
     "text": [
      "p-значение: 0.15\n",
      "Не получилось отвергнуть нулевую гипотезу\n"
     ]
    }
   ],
   "source": [
    "alpha = 0.05\n",
    "results = st.ttest_ind(list(XOne_score), list(PC_score), equal_var=False)\n",
    "\n",
    "print('p-значение:', round(results.pvalue, 2))\n",
    "if results.pvalue < alpha:\n",
    "    print(\"Отвергаем нулевую гипотезу\")\n",
    "else:\n",
    "    print(\"Не получилось отвергнуть нулевую гипотезу\")"
   ]
  },
  {
   "cell_type": "markdown",
   "metadata": {},
   "source": [
    "Если трактовать результат дословно, то: с вероятностью **15%** можно получить _этот же (или более далёкий)_ результат, если считать, что нулевая гипотеза верна."
   ]
  },
  {
   "cell_type": "markdown",
   "metadata": {},
   "source": [
    "## 5.2. Средние пользовательские рейтинги жанров Action и Sports - разные"
   ]
  },
  {
   "cell_type": "markdown",
   "metadata": {},
   "source": [
    "Здесь применяется аналогичный метод проверки.\n",
    "- Нулевая гипотеза (**H0**): Средние оценки игр для жанров `Action` и `Sports` - равны.\n",
    "- Альтер. гипотеза (**H1**): Средние оценки игр для жанров `Action` и `Sports` - разные.\n",
    "\n",
    "Необходимо провести проверку гипотезы о равенстве средних двух выборок, с помощью t-теста. Предворительно осмотрев исходные данные.\n",
    "- Выборки **независимы**, друг от друга.\n",
    "- Выборки сильно отличаются по количеству. Дисперсии - **разные**."
   ]
  },
  {
   "cell_type": "code",
   "execution_count": 50,
   "metadata": {},
   "outputs": [
    {
     "name": "stdout",
     "output_type": "stream",
     "text": [
      "count    389.000000\n",
      "mean       6.837532\n",
      "std        1.330173\n",
      "min        2.000000\n",
      "25%        6.300000\n",
      "50%        7.100000\n",
      "75%        7.800000\n",
      "max        9.100000\n",
      "Name: user_score, dtype: float64\n"
     ]
    },
    {
     "data": {
      "image/png": "[encoded data removed]",
      "text/plain": [
       "<Figure size 1152x504 with 1 Axes>"
      ]
     },
     "metadata": {},
     "output_type": "display_data"
    }
   ],
   "source": [
    "action_score = actual_data.loc[actual_data['genre'] == 'Action', 'user_score']\n",
    "action_score = action_score[(action_score != 'tbd') & (~action_score.isna())]\n",
    "action_score = action_score.astype('float')\n",
    "\n",
    "print(action_score.describe())\n",
    "plt.boxplot(action_score)\n",
    "plt.title('Диаграмма распределения оценок игр жарна Action');"
   ]
  },
  {
   "cell_type": "code",
   "execution_count": 51,
   "metadata": {},
   "outputs": [
    {
     "name": "stdout",
     "output_type": "stream",
     "text": [
      "[4.3 5.  5.7 4.5 4.2 6.7 4.4 5.9 6.3 3.2 5.5 4.9 7.  6.1 6.2 5.6 5.4 4.1\n",
      " 3.  2.9 6.4 2.7 6.5 3.5 7.4 5.8 5.1 7.5 7.7 7.8 5.2 7.1 3.1 7.2 4.6 3.3\n",
      " 4.  6.9 3.6 6.  8.2 2.4 2.8 7.6 5.3 6.8 1.8 1.7 3.8 8.7 1.6 6.6 8.3 1.5\n",
      " 3.4 0.7 7.3 2.  2.1 0.2 1.9 4.8 8.  3.9 3.7 8.8 1.4]\n",
      "count    160.000000\n",
      "mean       5.238125\n",
      "std        1.783427\n",
      "min        0.200000\n",
      "25%        4.100000\n",
      "50%        5.500000\n",
      "75%        6.500000\n",
      "max        8.800000\n",
      "Name: user_score, dtype: float64\n"
     ]
    },
    {
     "data": {
      "image/png": "[encoded data removed]",
      "text/plain": [
       "<Figure size 1152x504 with 1 Axes>"
      ]
     },
     "metadata": {},
     "output_type": "display_data"
    }
   ],
   "source": [
    "sports_score = actual_data.loc[actual_data['genre'] == 'Sports', 'user_score']\n",
    "sports_score = sports_score[(sports_score != 'tbd') & (~sports_score.isna())]\n",
    "sports_score = sports_score.astype('float')\n",
    "print(sports_score.unique())\n",
    "\n",
    "print(sports_score.describe())\n",
    "plt.boxplot(sports_score)\n",
    "plt.title('Диаграмма распределения оценок игр жанра Sports');"
   ]
  },
  {
   "cell_type": "code",
   "execution_count": 52,
   "metadata": {},
   "outputs": [
    {
     "name": "stdout",
     "output_type": "stream",
     "text": [
      "p-значение: 1.4460039700704315e-20\n",
      "Отвергаем нулевую гипотезу\n"
     ]
    }
   ],
   "source": [
    "alpha = 0.05\n",
    "results = st.ttest_ind(list(action_score), list(sports_score), equal_var=False)\n",
    "\n",
    "print('p-значение:', results.pvalue)\n",
    "if results.pvalue < alpha:\n",
    "    print(\"Отвергаем нулевую гипотезу\")\n",
    "else:\n",
    "    print(\"Не получилось отвергнуть нулевую гипотезу\")"
   ]
  },
  {
   "cell_type": "markdown",
   "metadata": {},
   "source": [
    "**Результат**: Вероятность, что средние пользовательские оценки для игр `Action` и `Sports` - крайне мала. Это позволяет отвергнуть нулевую гипотезу и в этом случае альтернативная гипотеза принимается за верную."
   ]
  },
  {
   "cell_type": "markdown",
   "metadata": {},
   "source": [
    "<a id='section_6'></a> \n",
    "# 6. Общий вывод"
   ]
  },
  {
   "cell_type": "markdown",
   "metadata": {},
   "source": [
    "Если **успех игры** исчислять количеством проданных копий, то основные параметры влияющия на объём продаж это:\n",
    "- _жанр_,\n",
    "- _платформа_,\n",
    "- _возрастной рейтинг_,\n",
    "- на их основе можно определить _территорию_ наиболее востребовательных пользователей.\n",
    "\n",
    "Сумарно, по эти 4-ём параметрам, можно подсчитать ожидаемый диапазон продаж.\n",
    "\n",
    "**Например**:\n",
    "- взрослый Shooter для домашних консолей Playstation/Xbox - популярный вариант для игроков Европы и Сев. Америки\n",
    "- игра жанра Role-Play, без возрастных ограничений для портативных консолей Nintendo 3DS или PS Vita - популярный вариант для Японии.\n",
    "\n",
    "На основе проделанной работы, можно сформулировать **ряд недочётов в исходных данных**, и передать их в качестве обратной связи. При последующем обращении это увеличит выборку данных, и сэкономит ресурсы на предобработке. Помимо перечня недочётов, можно передать ряд требований к данным, что так же повысит точность исследования.\n",
    "\n",
    "В перечень параметров игр стоит **добавить**:\n",
    "- дату релиза,\n",
    "- стоимость игры (на момент выпуска),\n",
    "- наличие внутриигровых покупок.\n",
    "Если эти данные уже есть, то при следующем исследовании стоит выгрузить их. Это позволит определить успех игр с финансовой стороны."
   ]
  },
  {
   "cell_type": "markdown",
   "metadata": {},
   "source": []
  }
 ],
 "metadata": {
  "ExecuteTimeLog": [
   {
    "duration": 533,
    "start_time": "2022-11-03T15:34:22.696Z"
   },
   {
    "duration": 14,
    "start_time": "2022-11-03T15:34:23.231Z"
   },
   {
    "duration": 2037,
    "start_time": "2022-11-03T15:34:23.247Z"
   },
   {
    "duration": 6,
    "start_time": "2022-11-03T15:34:25.286Z"
   },
   {
    "duration": 20,
    "start_time": "2022-11-03T15:34:25.293Z"
   },
   {
    "duration": 4,
    "start_time": "2022-11-03T15:34:25.314Z"
   },
   {
    "duration": 237,
    "start_time": "2022-11-03T15:34:25.320Z"
   },
   {
    "duration": 350,
    "start_time": "2022-11-03T15:34:25.559Z"
   },
   {
    "duration": 7,
    "start_time": "2022-11-03T15:34:25.911Z"
   },
   {
    "duration": 10,
    "start_time": "2022-11-03T15:34:25.920Z"
   },
   {
    "duration": 13,
    "start_time": "2022-11-03T15:34:25.931Z"
   },
   {
    "duration": 102,
    "start_time": "2022-11-03T15:34:25.945Z"
   },
   {
    "duration": 5,
    "start_time": "2022-11-03T15:34:26.048Z"
   },
   {
    "duration": 56,
    "start_time": "2022-11-03T15:34:26.055Z"
   },
   {
    "duration": 5,
    "start_time": "2022-11-03T15:34:26.112Z"
   },
   {
    "duration": 18,
    "start_time": "2022-11-03T15:34:26.118Z"
   },
   {
    "duration": 5,
    "start_time": "2022-11-03T15:34:26.138Z"
   },
   {
    "duration": 18,
    "start_time": "2022-11-03T15:34:26.145Z"
   },
   {
    "duration": 45,
    "start_time": "2022-11-03T15:34:26.165Z"
   },
   {
    "duration": 64,
    "start_time": "2022-11-03T15:34:26.212Z"
   },
   {
    "duration": 7,
    "start_time": "2022-11-03T15:34:26.278Z"
   },
   {
    "duration": 326,
    "start_time": "2022-11-03T15:34:26.287Z"
   },
   {
    "duration": 350,
    "start_time": "2022-11-03T15:34:26.614Z"
   },
   {
    "duration": 17,
    "start_time": "2022-11-03T15:34:26.965Z"
   },
   {
    "duration": 57,
    "start_time": "2022-11-03T15:34:26.983Z"
   },
   {
    "duration": 613,
    "start_time": "2022-11-03T15:34:27.042Z"
   },
   {
    "duration": 213,
    "start_time": "2022-11-03T15:34:27.656Z"
   },
   {
    "duration": 160,
    "start_time": "2022-11-03T15:34:27.872Z"
   },
   {
    "duration": 183,
    "start_time": "2022-11-03T15:34:28.033Z"
   },
   {
    "duration": 516,
    "start_time": "2022-11-03T15:34:28.218Z"
   },
   {
    "duration": 223,
    "start_time": "2022-11-03T15:34:28.735Z"
   },
   {
    "duration": 427,
    "start_time": "2022-11-03T15:34:28.959Z"
   },
   {
    "duration": 377,
    "start_time": "2022-11-03T15:34:29.388Z"
   },
   {
    "duration": 483,
    "start_time": "2022-11-03T15:34:29.767Z"
   },
   {
    "duration": 281,
    "start_time": "2022-11-03T15:34:30.253Z"
   },
   {
    "duration": 486,
    "start_time": "2022-11-03T15:34:30.535Z"
   },
   {
    "duration": 731,
    "start_time": "2022-11-03T15:34:31.023Z"
   },
   {
    "duration": 182,
    "start_time": "2022-11-03T15:34:31.756Z"
   },
   {
    "duration": 773,
    "start_time": "2022-11-03T15:34:31.939Z"
   },
   {
    "duration": 26,
    "start_time": "2022-11-03T15:34:32.713Z"
   },
   {
    "duration": 209,
    "start_time": "2022-11-03T15:34:32.741Z"
   },
   {
    "duration": 402,
    "start_time": "2022-11-03T15:40:17.016Z"
   },
   {
    "duration": 531,
    "start_time": "2022-11-03T15:53:42.604Z"
   },
   {
    "duration": 17,
    "start_time": "2022-11-03T15:53:43.137Z"
   },
   {
    "duration": 2024,
    "start_time": "2022-11-03T15:53:43.156Z"
   },
   {
    "duration": 6,
    "start_time": "2022-11-03T15:53:45.182Z"
   },
   {
    "duration": 25,
    "start_time": "2022-11-03T15:53:45.189Z"
   },
   {
    "duration": 4,
    "start_time": "2022-11-03T15:53:45.215Z"
   },
   {
    "duration": 256,
    "start_time": "2022-11-03T15:53:45.221Z"
   },
   {
    "duration": 354,
    "start_time": "2022-11-03T15:53:45.478Z"
   },
   {
    "duration": 7,
    "start_time": "2022-11-03T15:53:45.834Z"
   },
   {
    "duration": 9,
    "start_time": "2022-11-03T15:53:45.843Z"
   },
   {
    "duration": 11,
    "start_time": "2022-11-03T15:53:45.854Z"
   },
   {
    "duration": 112,
    "start_time": "2022-11-03T15:53:45.866Z"
   },
   {
    "duration": 5,
    "start_time": "2022-11-03T15:53:45.980Z"
   },
   {
    "duration": 60,
    "start_time": "2022-11-03T15:53:45.987Z"
   },
   {
    "duration": 5,
    "start_time": "2022-11-03T15:53:46.049Z"
   },
   {
    "duration": 13,
    "start_time": "2022-11-03T15:53:46.055Z"
   },
   {
    "duration": 5,
    "start_time": "2022-11-03T15:53:46.069Z"
   },
   {
    "duration": 38,
    "start_time": "2022-11-03T15:53:46.075Z"
   },
   {
    "duration": 27,
    "start_time": "2022-11-03T15:53:46.115Z"
   },
   {
    "duration": 97,
    "start_time": "2022-11-03T15:53:46.144Z"
   },
   {
    "duration": 8,
    "start_time": "2022-11-03T15:53:46.243Z"
   },
   {
    "duration": 296,
    "start_time": "2022-11-03T15:53:46.253Z"
   },
   {
    "duration": 347,
    "start_time": "2022-11-03T15:53:46.551Z"
   },
   {
    "duration": 16,
    "start_time": "2022-11-03T15:53:46.900Z"
   },
   {
    "duration": 42,
    "start_time": "2022-11-03T15:53:46.917Z"
   },
   {
    "duration": 625,
    "start_time": "2022-11-03T15:53:46.961Z"
   },
   {
    "duration": 213,
    "start_time": "2022-11-03T15:53:47.587Z"
   },
   {
    "duration": 164,
    "start_time": "2022-11-03T15:53:47.808Z"
   },
   {
    "duration": 184,
    "start_time": "2022-11-03T15:53:47.973Z"
   },
   {
    "duration": 525,
    "start_time": "2022-11-03T15:53:48.159Z"
   },
   {
    "duration": 215,
    "start_time": "2022-11-03T15:53:48.685Z"
   },
   {
    "duration": 426,
    "start_time": "2022-11-03T15:53:48.902Z"
   },
   {
    "duration": 388,
    "start_time": "2022-11-03T15:53:49.330Z"
   },
   {
    "duration": 467,
    "start_time": "2022-11-03T15:53:49.719Z"
   },
   {
    "duration": 296,
    "start_time": "2022-11-03T15:53:50.187Z"
   },
   {
    "duration": 264,
    "start_time": "2022-11-03T15:53:50.484Z"
   },
   {
    "duration": 484,
    "start_time": "2022-11-03T15:53:50.749Z"
   },
   {
    "duration": 744,
    "start_time": "2022-11-03T15:53:51.234Z"
   },
   {
    "duration": 180,
    "start_time": "2022-11-03T15:53:51.979Z"
   },
   {
    "duration": 725,
    "start_time": "2022-11-03T15:53:52.160Z"
   },
   {
    "duration": 35,
    "start_time": "2022-11-03T15:53:52.886Z"
   },
   {
    "duration": 265,
    "start_time": "2022-11-03T15:53:52.922Z"
   },
   {
    "duration": 1079,
    "start_time": "2022-11-07T22:28:05.795Z"
   },
   {
    "duration": 169,
    "start_time": "2022-11-07T22:28:06.876Z"
   },
   {
    "duration": 10,
    "start_time": "2022-11-07T22:28:07.047Z"
   },
   {
    "duration": 105,
    "start_time": "2022-11-07T22:28:07.060Z"
   },
   {
    "duration": 0,
    "start_time": "2022-11-07T22:28:07.168Z"
   },
   {
    "duration": 0,
    "start_time": "2022-11-07T22:28:07.169Z"
   },
   {
    "duration": 0,
    "start_time": "2022-11-07T22:28:07.170Z"
   },
   {
    "duration": 0,
    "start_time": "2022-11-07T22:28:07.171Z"
   },
   {
    "duration": 0,
    "start_time": "2022-11-07T22:28:07.173Z"
   },
   {
    "duration": 1,
    "start_time": "2022-11-07T22:28:07.173Z"
   },
   {
    "duration": 0,
    "start_time": "2022-11-07T22:28:07.175Z"
   },
   {
    "duration": 1,
    "start_time": "2022-11-07T22:28:07.175Z"
   },
   {
    "duration": 0,
    "start_time": "2022-11-07T22:28:07.177Z"
   },
   {
    "duration": 0,
    "start_time": "2022-11-07T22:28:07.178Z"
   },
   {
    "duration": 0,
    "start_time": "2022-11-07T22:28:07.179Z"
   },
   {
    "duration": 0,
    "start_time": "2022-11-07T22:28:07.180Z"
   },
   {
    "duration": 0,
    "start_time": "2022-11-07T22:28:07.181Z"
   },
   {
    "duration": 0,
    "start_time": "2022-11-07T22:28:07.182Z"
   },
   {
    "duration": 0,
    "start_time": "2022-11-07T22:28:07.183Z"
   },
   {
    "duration": 0,
    "start_time": "2022-11-07T22:28:07.184Z"
   },
   {
    "duration": 0,
    "start_time": "2022-11-07T22:28:07.185Z"
   },
   {
    "duration": 0,
    "start_time": "2022-11-07T22:28:07.186Z"
   },
   {
    "duration": 0,
    "start_time": "2022-11-07T22:28:07.187Z"
   },
   {
    "duration": 0,
    "start_time": "2022-11-07T22:28:07.188Z"
   },
   {
    "duration": 0,
    "start_time": "2022-11-07T22:28:07.190Z"
   },
   {
    "duration": 0,
    "start_time": "2022-11-07T22:28:07.191Z"
   },
   {
    "duration": 0,
    "start_time": "2022-11-07T22:28:07.192Z"
   },
   {
    "duration": 0,
    "start_time": "2022-11-07T22:28:07.193Z"
   },
   {
    "duration": 0,
    "start_time": "2022-11-07T22:28:07.194Z"
   },
   {
    "duration": 1,
    "start_time": "2022-11-07T22:28:07.195Z"
   },
   {
    "duration": 0,
    "start_time": "2022-11-07T22:28:07.197Z"
   },
   {
    "duration": 0,
    "start_time": "2022-11-07T22:28:07.249Z"
   },
   {
    "duration": 0,
    "start_time": "2022-11-07T22:28:07.251Z"
   },
   {
    "duration": 0,
    "start_time": "2022-11-07T22:28:07.252Z"
   },
   {
    "duration": 0,
    "start_time": "2022-11-07T22:28:07.253Z"
   },
   {
    "duration": 0,
    "start_time": "2022-11-07T22:28:07.255Z"
   },
   {
    "duration": 0,
    "start_time": "2022-11-07T22:28:07.256Z"
   },
   {
    "duration": 0,
    "start_time": "2022-11-07T22:28:07.257Z"
   },
   {
    "duration": 0,
    "start_time": "2022-11-07T22:28:07.258Z"
   },
   {
    "duration": 0,
    "start_time": "2022-11-07T22:28:07.260Z"
   },
   {
    "duration": 0,
    "start_time": "2022-11-07T22:28:07.261Z"
   },
   {
    "duration": 0,
    "start_time": "2022-11-07T22:28:07.262Z"
   },
   {
    "duration": 0,
    "start_time": "2022-11-07T22:28:07.264Z"
   },
   {
    "duration": 0,
    "start_time": "2022-11-07T22:28:07.265Z"
   },
   {
    "duration": 0,
    "start_time": "2022-11-07T22:28:07.266Z"
   },
   {
    "duration": 0,
    "start_time": "2022-11-07T22:28:07.268Z"
   },
   {
    "duration": 0,
    "start_time": "2022-11-07T22:28:07.269Z"
   },
   {
    "duration": 0,
    "start_time": "2022-11-07T22:28:07.270Z"
   },
   {
    "duration": 0,
    "start_time": "2022-11-07T22:28:07.271Z"
   },
   {
    "duration": 0,
    "start_time": "2022-11-07T22:28:07.272Z"
   },
   {
    "duration": 1016,
    "start_time": "2022-11-07T22:53:05.521Z"
   },
   {
    "duration": 183,
    "start_time": "2022-11-07T22:53:06.538Z"
   },
   {
    "duration": 9,
    "start_time": "2022-11-07T22:53:06.723Z"
   },
   {
    "duration": 109,
    "start_time": "2022-11-07T22:53:06.734Z"
   },
   {
    "duration": 0,
    "start_time": "2022-11-07T22:53:06.845Z"
   },
   {
    "duration": 0,
    "start_time": "2022-11-07T22:53:06.846Z"
   },
   {
    "duration": 0,
    "start_time": "2022-11-07T22:53:06.847Z"
   },
   {
    "duration": 0,
    "start_time": "2022-11-07T22:53:06.849Z"
   },
   {
    "duration": 0,
    "start_time": "2022-11-07T22:53:06.850Z"
   },
   {
    "duration": 0,
    "start_time": "2022-11-07T22:53:06.852Z"
   },
   {
    "duration": 0,
    "start_time": "2022-11-07T22:53:06.854Z"
   },
   {
    "duration": 0,
    "start_time": "2022-11-07T22:53:06.855Z"
   },
   {
    "duration": 0,
    "start_time": "2022-11-07T22:53:06.857Z"
   },
   {
    "duration": 0,
    "start_time": "2022-11-07T22:53:06.858Z"
   },
   {
    "duration": 0,
    "start_time": "2022-11-07T22:53:06.861Z"
   },
   {
    "duration": 0,
    "start_time": "2022-11-07T22:53:06.862Z"
   },
   {
    "duration": 0,
    "start_time": "2022-11-07T22:53:06.864Z"
   },
   {
    "duration": 0,
    "start_time": "2022-11-07T22:53:06.865Z"
   },
   {
    "duration": 0,
    "start_time": "2022-11-07T22:53:06.867Z"
   },
   {
    "duration": 0,
    "start_time": "2022-11-07T22:53:06.868Z"
   },
   {
    "duration": 0,
    "start_time": "2022-11-07T22:53:06.869Z"
   },
   {
    "duration": 0,
    "start_time": "2022-11-07T22:53:06.871Z"
   },
   {
    "duration": 0,
    "start_time": "2022-11-07T22:53:06.872Z"
   },
   {
    "duration": 0,
    "start_time": "2022-11-07T22:53:06.880Z"
   },
   {
    "duration": 0,
    "start_time": "2022-11-07T22:53:06.881Z"
   },
   {
    "duration": 0,
    "start_time": "2022-11-07T22:53:06.883Z"
   },
   {
    "duration": 0,
    "start_time": "2022-11-07T22:53:06.884Z"
   },
   {
    "duration": 0,
    "start_time": "2022-11-07T22:53:06.885Z"
   },
   {
    "duration": 0,
    "start_time": "2022-11-07T22:53:06.887Z"
   },
   {
    "duration": 0,
    "start_time": "2022-11-07T22:53:06.888Z"
   },
   {
    "duration": 0,
    "start_time": "2022-11-07T22:53:06.890Z"
   },
   {
    "duration": 0,
    "start_time": "2022-11-07T22:53:06.891Z"
   },
   {
    "duration": 0,
    "start_time": "2022-11-07T22:53:06.892Z"
   },
   {
    "duration": 0,
    "start_time": "2022-11-07T22:53:06.893Z"
   },
   {
    "duration": 0,
    "start_time": "2022-11-07T22:53:06.950Z"
   },
   {
    "duration": 0,
    "start_time": "2022-11-07T22:53:06.951Z"
   },
   {
    "duration": 1,
    "start_time": "2022-11-07T22:53:06.952Z"
   },
   {
    "duration": 0,
    "start_time": "2022-11-07T22:53:06.954Z"
   },
   {
    "duration": 0,
    "start_time": "2022-11-07T22:53:06.955Z"
   },
   {
    "duration": 0,
    "start_time": "2022-11-07T22:53:06.956Z"
   },
   {
    "duration": 0,
    "start_time": "2022-11-07T22:53:06.958Z"
   },
   {
    "duration": 0,
    "start_time": "2022-11-07T22:53:06.960Z"
   },
   {
    "duration": 0,
    "start_time": "2022-11-07T22:53:06.961Z"
   },
   {
    "duration": 0,
    "start_time": "2022-11-07T22:53:06.962Z"
   },
   {
    "duration": 0,
    "start_time": "2022-11-07T22:53:06.963Z"
   },
   {
    "duration": 0,
    "start_time": "2022-11-07T22:53:06.965Z"
   },
   {
    "duration": 0,
    "start_time": "2022-11-07T22:53:06.966Z"
   },
   {
    "duration": 0,
    "start_time": "2022-11-07T22:53:06.967Z"
   },
   {
    "duration": 0,
    "start_time": "2022-11-07T22:53:06.969Z"
   },
   {
    "duration": 0,
    "start_time": "2022-11-07T22:53:06.970Z"
   },
   {
    "duration": 106,
    "start_time": "2022-11-07T22:55:30.667Z"
   },
   {
    "duration": 15,
    "start_time": "2022-11-07T22:55:32.867Z"
   },
   {
    "duration": 1156,
    "start_time": "2022-11-07T22:55:39.891Z"
   },
   {
    "duration": 108,
    "start_time": "2022-11-07T22:55:41.049Z"
   },
   {
    "duration": 15,
    "start_time": "2022-11-07T22:55:41.158Z"
   },
   {
    "duration": 1711,
    "start_time": "2022-11-07T22:55:41.175Z"
   },
   {
    "duration": 5,
    "start_time": "2022-11-07T22:55:42.888Z"
   },
   {
    "duration": 5,
    "start_time": "2022-11-07T22:55:42.894Z"
   },
   {
    "duration": 311,
    "start_time": "2022-11-07T22:55:42.901Z"
   },
   {
    "duration": 300,
    "start_time": "2022-11-07T22:55:43.213Z"
   },
   {
    "duration": 7,
    "start_time": "2022-11-07T22:55:43.515Z"
   },
   {
    "duration": 6,
    "start_time": "2022-11-07T22:55:43.524Z"
   },
   {
    "duration": 16,
    "start_time": "2022-11-07T22:55:43.532Z"
   },
   {
    "duration": 128,
    "start_time": "2022-11-07T22:55:43.549Z"
   },
   {
    "duration": 7,
    "start_time": "2022-11-07T22:55:43.678Z"
   },
   {
    "duration": 42,
    "start_time": "2022-11-07T22:55:43.687Z"
   },
   {
    "duration": 20,
    "start_time": "2022-11-07T22:55:43.730Z"
   },
   {
    "duration": 16,
    "start_time": "2022-11-07T22:55:43.752Z"
   },
   {
    "duration": 4,
    "start_time": "2022-11-07T22:55:43.770Z"
   },
   {
    "duration": 12,
    "start_time": "2022-11-07T22:55:43.775Z"
   },
   {
    "duration": 8,
    "start_time": "2022-11-07T22:55:43.789Z"
   },
   {
    "duration": 170,
    "start_time": "2022-11-07T22:55:43.799Z"
   },
   {
    "duration": 21,
    "start_time": "2022-11-07T22:55:43.971Z"
   },
   {
    "duration": 59,
    "start_time": "2022-11-07T22:55:43.994Z"
   },
   {
    "duration": 12,
    "start_time": "2022-11-07T22:55:44.055Z"
   },
   {
    "duration": 321,
    "start_time": "2022-11-07T22:55:44.069Z"
   },
   {
    "duration": 272,
    "start_time": "2022-11-07T22:55:44.391Z"
   },
   {
    "duration": 13,
    "start_time": "2022-11-07T22:55:44.665Z"
   },
   {
    "duration": 43,
    "start_time": "2022-11-07T22:55:44.680Z"
   },
   {
    "duration": 797,
    "start_time": "2022-11-07T22:55:44.726Z"
   },
   {
    "duration": 228,
    "start_time": "2022-11-07T22:55:45.524Z"
   },
   {
    "duration": 156,
    "start_time": "2022-11-07T22:55:45.754Z"
   },
   {
    "duration": 167,
    "start_time": "2022-11-07T22:55:45.911Z"
   },
   {
    "duration": 432,
    "start_time": "2022-11-07T22:55:46.079Z"
   },
   {
    "duration": 208,
    "start_time": "2022-11-07T22:55:46.513Z"
   },
   {
    "duration": 473,
    "start_time": "2022-11-07T22:55:46.723Z"
   },
   {
    "duration": 301,
    "start_time": "2022-11-07T22:55:47.198Z"
   },
   {
    "duration": 449,
    "start_time": "2022-11-07T22:55:47.500Z"
   },
   {
    "duration": 1014,
    "start_time": "2022-11-07T22:55:47.951Z"
   },
   {
    "duration": 0,
    "start_time": "2022-11-07T22:55:48.967Z"
   },
   {
    "duration": 0,
    "start_time": "2022-11-07T22:55:48.969Z"
   },
   {
    "duration": 0,
    "start_time": "2022-11-07T22:55:48.970Z"
   },
   {
    "duration": 0,
    "start_time": "2022-11-07T22:55:48.971Z"
   },
   {
    "duration": 0,
    "start_time": "2022-11-07T22:55:48.972Z"
   },
   {
    "duration": 0,
    "start_time": "2022-11-07T22:55:48.973Z"
   },
   {
    "duration": 0,
    "start_time": "2022-11-07T22:55:48.974Z"
   },
   {
    "duration": 0,
    "start_time": "2022-11-07T22:55:48.975Z"
   },
   {
    "duration": 0,
    "start_time": "2022-11-07T22:55:48.976Z"
   },
   {
    "duration": 0,
    "start_time": "2022-11-07T22:55:48.977Z"
   },
   {
    "duration": 0,
    "start_time": "2022-11-07T22:55:48.979Z"
   },
   {
    "duration": 0,
    "start_time": "2022-11-07T22:55:48.980Z"
   },
   {
    "duration": 0,
    "start_time": "2022-11-07T22:55:48.981Z"
   },
   {
    "duration": 2,
    "start_time": "2022-11-07T22:57:05.113Z"
   },
   {
    "duration": 7509,
    "start_time": "2022-11-07T22:57:05.455Z"
   },
   {
    "duration": 906,
    "start_time": "2022-11-07T22:57:12.965Z"
   },
   {
    "duration": 1793,
    "start_time": "2022-11-07T22:57:13.873Z"
   },
   {
    "duration": 298,
    "start_time": "2022-11-07T22:59:02.688Z"
   },
   {
    "duration": 1165,
    "start_time": "2022-11-07T23:04:20.346Z"
   },
   {
    "duration": 168,
    "start_time": "2022-11-07T23:04:21.513Z"
   },
   {
    "duration": 17,
    "start_time": "2022-11-07T23:04:21.682Z"
   },
   {
    "duration": 1940,
    "start_time": "2022-11-07T23:04:21.701Z"
   },
   {
    "duration": 8,
    "start_time": "2022-11-07T23:04:23.642Z"
   },
   {
    "duration": 26,
    "start_time": "2022-11-07T23:04:23.652Z"
   },
   {
    "duration": 337,
    "start_time": "2022-11-07T23:04:23.680Z"
   },
   {
    "duration": 346,
    "start_time": "2022-11-07T23:04:24.019Z"
   },
   {
    "duration": 10,
    "start_time": "2022-11-07T23:04:24.367Z"
   },
   {
    "duration": 9,
    "start_time": "2022-11-07T23:04:24.380Z"
   },
   {
    "duration": 11,
    "start_time": "2022-11-07T23:04:24.390Z"
   },
   {
    "duration": 162,
    "start_time": "2022-11-07T23:04:24.402Z"
   },
   {
    "duration": 9,
    "start_time": "2022-11-07T23:04:24.566Z"
   },
   {
    "duration": 51,
    "start_time": "2022-11-07T23:04:24.577Z"
   },
   {
    "duration": 22,
    "start_time": "2022-11-07T23:04:24.629Z"
   },
   {
    "duration": 34,
    "start_time": "2022-11-07T23:04:24.653Z"
   },
   {
    "duration": 12,
    "start_time": "2022-11-07T23:04:24.689Z"
   },
   {
    "duration": 10,
    "start_time": "2022-11-07T23:04:24.703Z"
   },
   {
    "duration": 6,
    "start_time": "2022-11-07T23:04:24.715Z"
   },
   {
    "duration": 174,
    "start_time": "2022-11-07T23:04:24.723Z"
   },
   {
    "duration": 22,
    "start_time": "2022-11-07T23:04:24.898Z"
   },
   {
    "duration": 74,
    "start_time": "2022-11-07T23:04:24.922Z"
   },
   {
    "duration": 8,
    "start_time": "2022-11-07T23:04:24.997Z"
   },
   {
    "duration": 423,
    "start_time": "2022-11-07T23:04:25.007Z"
   },
   {
    "duration": 377,
    "start_time": "2022-11-07T23:04:25.432Z"
   },
   {
    "duration": 15,
    "start_time": "2022-11-07T23:04:25.811Z"
   },
   {
    "duration": 73,
    "start_time": "2022-11-07T23:04:25.827Z"
   },
   {
    "duration": 821,
    "start_time": "2022-11-07T23:04:25.904Z"
   },
   {
    "duration": 270,
    "start_time": "2022-11-07T23:04:26.726Z"
   },
   {
    "duration": 189,
    "start_time": "2022-11-07T23:04:26.998Z"
   },
   {
    "duration": 205,
    "start_time": "2022-11-07T23:04:27.189Z"
   },
   {
    "duration": 503,
    "start_time": "2022-11-07T23:04:27.396Z"
   },
   {
    "duration": 240,
    "start_time": "2022-11-07T23:04:27.901Z"
   },
   {
    "duration": 603,
    "start_time": "2022-11-07T23:04:28.148Z"
   },
   {
    "duration": 432,
    "start_time": "2022-11-07T23:04:28.755Z"
   },
   {
    "duration": 516,
    "start_time": "2022-11-07T23:04:29.189Z"
   },
   {
    "duration": 340,
    "start_time": "2022-11-07T23:04:29.707Z"
   },
   {
    "duration": 415,
    "start_time": "2022-11-07T23:04:30.048Z"
   },
   {
    "duration": 218,
    "start_time": "2022-11-07T23:04:30.465Z"
   },
   {
    "duration": 546,
    "start_time": "2022-11-07T23:04:30.685Z"
   },
   {
    "duration": 303,
    "start_time": "2022-11-07T23:04:31.232Z"
   },
   {
    "duration": 226,
    "start_time": "2022-11-07T23:04:31.538Z"
   },
   {
    "duration": 828,
    "start_time": "2022-11-07T23:04:31.766Z"
   },
   {
    "duration": 23,
    "start_time": "2022-11-07T23:04:32.595Z"
   },
   {
    "duration": 802,
    "start_time": "2022-11-07T23:04:32.619Z"
   },
   {
    "duration": 26,
    "start_time": "2022-11-07T23:04:33.423Z"
   },
   {
    "duration": 2,
    "start_time": "2022-11-07T23:04:33.451Z"
   },
   {
    "duration": 3724,
    "start_time": "2022-11-07T23:04:33.455Z"
   },
   {
    "duration": 511,
    "start_time": "2022-11-07T23:04:37.181Z"
   },
   {
    "duration": 1291,
    "start_time": "2022-11-07T23:04:37.694Z"
   },
   {
    "duration": 794,
    "start_time": "2022-11-07T23:12:13.543Z"
   },
   {
    "duration": 933,
    "start_time": "2022-11-07T23:12:32.381Z"
   },
   {
    "duration": 211,
    "start_time": "2022-11-07T23:14:47.541Z"
   },
   {
    "duration": 214,
    "start_time": "2022-11-07T23:14:55.472Z"
   },
   {
    "duration": 17,
    "start_time": "2022-11-07T23:21:12.331Z"
   },
   {
    "duration": 237,
    "start_time": "2022-11-07T23:23:29.730Z"
   },
   {
    "duration": 248,
    "start_time": "2022-11-07T23:23:38.459Z"
   },
   {
    "duration": 7,
    "start_time": "2022-11-07T23:26:31.065Z"
   },
   {
    "duration": 35,
    "start_time": "2022-11-07T23:31:30.770Z"
   },
   {
    "duration": 171,
    "start_time": "2022-11-07T23:32:26.725Z"
   },
   {
    "duration": 4,
    "start_time": "2022-11-07T23:32:43.770Z"
   },
   {
    "duration": 19,
    "start_time": "2022-11-07T23:33:21.823Z"
   },
   {
    "duration": 1103,
    "start_time": "2022-11-07T23:36:25.861Z"
   },
   {
    "duration": 113,
    "start_time": "2022-11-07T23:36:26.966Z"
   },
   {
    "duration": 12,
    "start_time": "2022-11-07T23:36:27.080Z"
   },
   {
    "duration": 1814,
    "start_time": "2022-11-07T23:36:27.094Z"
   },
   {
    "duration": 4,
    "start_time": "2022-11-07T23:36:28.910Z"
   },
   {
    "duration": 9,
    "start_time": "2022-11-07T23:36:28.916Z"
   },
   {
    "duration": 325,
    "start_time": "2022-11-07T23:36:28.926Z"
   },
   {
    "duration": 328,
    "start_time": "2022-11-07T23:36:29.253Z"
   },
   {
    "duration": 6,
    "start_time": "2022-11-07T23:36:29.583Z"
   },
   {
    "duration": 8,
    "start_time": "2022-11-07T23:36:29.591Z"
   },
   {
    "duration": 6,
    "start_time": "2022-11-07T23:36:29.600Z"
   },
   {
    "duration": 131,
    "start_time": "2022-11-07T23:36:29.607Z"
   },
   {
    "duration": 8,
    "start_time": "2022-11-07T23:36:29.740Z"
   },
   {
    "duration": 46,
    "start_time": "2022-11-07T23:36:29.755Z"
   },
   {
    "duration": 12,
    "start_time": "2022-11-07T23:36:29.802Z"
   },
   {
    "duration": 5,
    "start_time": "2022-11-07T23:36:29.815Z"
   },
   {
    "duration": 49,
    "start_time": "2022-11-07T23:36:29.821Z"
   },
   {
    "duration": 5,
    "start_time": "2022-11-07T23:36:29.871Z"
   },
   {
    "duration": 11,
    "start_time": "2022-11-07T23:36:29.877Z"
   },
   {
    "duration": 6,
    "start_time": "2022-11-07T23:36:29.890Z"
   },
   {
    "duration": 161,
    "start_time": "2022-11-07T23:36:29.897Z"
   },
   {
    "duration": 22,
    "start_time": "2022-11-07T23:36:30.061Z"
   },
   {
    "duration": 50,
    "start_time": "2022-11-07T23:36:30.085Z"
   },
   {
    "duration": 203,
    "start_time": "2022-11-07T23:36:30.137Z"
   },
   {
    "duration": 19,
    "start_time": "2022-11-07T23:36:30.341Z"
   },
   {
    "duration": 301,
    "start_time": "2022-11-07T23:36:30.364Z"
   },
   {
    "duration": 293,
    "start_time": "2022-11-07T23:36:30.667Z"
   },
   {
    "duration": 14,
    "start_time": "2022-11-07T23:36:30.964Z"
   },
   {
    "duration": 130,
    "start_time": "2022-11-07T23:36:30.980Z"
   },
   {
    "duration": 697,
    "start_time": "2022-11-07T23:36:31.111Z"
   },
   {
    "duration": 245,
    "start_time": "2022-11-07T23:36:31.810Z"
   },
   {
    "duration": 158,
    "start_time": "2022-11-07T23:36:32.057Z"
   },
   {
    "duration": 178,
    "start_time": "2022-11-07T23:36:32.217Z"
   },
   {
    "duration": 526,
    "start_time": "2022-11-07T23:36:32.397Z"
   },
   {
    "duration": 223,
    "start_time": "2022-11-07T23:36:32.925Z"
   },
   {
    "duration": 455,
    "start_time": "2022-11-07T23:36:33.150Z"
   },
   {
    "duration": 322,
    "start_time": "2022-11-07T23:36:33.607Z"
   },
   {
    "duration": 567,
    "start_time": "2022-11-07T23:36:33.931Z"
   },
   {
    "duration": 304,
    "start_time": "2022-11-07T23:36:34.500Z"
   },
   {
    "duration": 253,
    "start_time": "2022-11-07T23:36:34.806Z"
   },
   {
    "duration": 215,
    "start_time": "2022-11-07T23:36:35.062Z"
   },
   {
    "duration": 501,
    "start_time": "2022-11-07T23:36:35.279Z"
   },
   {
    "duration": 231,
    "start_time": "2022-11-07T23:36:35.782Z"
   },
   {
    "duration": 194,
    "start_time": "2022-11-07T23:36:36.014Z"
   },
   {
    "duration": 856,
    "start_time": "2022-11-07T23:36:36.209Z"
   },
   {
    "duration": 24,
    "start_time": "2022-11-07T23:36:37.066Z"
   },
   {
    "duration": 6,
    "start_time": "2022-11-07T23:36:37.091Z"
   },
   {
    "duration": 699,
    "start_time": "2022-11-07T23:36:37.098Z"
   },
   {
    "duration": 26,
    "start_time": "2022-11-07T23:36:37.848Z"
   },
   {
    "duration": 19,
    "start_time": "2022-11-07T23:36:37.875Z"
   },
   {
    "duration": 2,
    "start_time": "2022-11-07T23:36:37.895Z"
   },
   {
    "duration": 4110,
    "start_time": "2022-11-07T23:36:37.949Z"
   },
   {
    "duration": 442,
    "start_time": "2022-11-07T23:36:42.061Z"
   },
   {
    "duration": 1170,
    "start_time": "2022-11-07T23:36:42.505Z"
   }
  ],
  "kernelspec": {
   "display_name": "Python 3",
   "language": "python",
   "name": "python3"
  },
  "language_info": {
   "codemirror_mode": {
    "name": "ipython",
    "version": 3
   },
   "file_extension": ".py",
   "mimetype": "text/x-python",
   "name": "python",
   "nbconvert_exporter": "python",
   "pygments_lexer": "ipython3",
   "version": "3.8.8"
  },
  "toc": {
   "base_numbering": 1,
   "nav_menu": {},
   "number_sections": true,
   "sideBar": true,
   "skip_h1_title": true,
   "title_cell": "Table of Contents",
   "title_sidebar": "Contents",
   "toc_cell": false,
   "toc_position": {
    "height": "calc(100% - 180px)",
    "left": "10px",
    "top": "150px",
    "width": "306.4px"
   },
   "toc_section_display": true,
   "toc_window_display": true
  }
 },
 "nbformat": 4,
 "nbformat_minor": 2
}
